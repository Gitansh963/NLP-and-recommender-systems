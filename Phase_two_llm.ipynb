{
 "cells": [
  {
   "cell_type": "code",
   "execution_count": 1,
   "metadata": {},
   "outputs": [],
   "source": [
    "import pandas as pd\n",
    "import numpy as np\n",
    "import json\n",
    "file_path = \"AMAZON_FASHION_5.json\"\n",
    "\n",
    "reviews = []\n",
    "with open(file_path, \"r\") as file:\n",
    "    for line in file:\n",
    "        reviews.append(json.loads(line))\n",
    "\n",
    "df = pd.DataFrame.from_dict(reviews)"
   ]
  },
  {
   "cell_type": "code",
   "execution_count": 2,
   "metadata": {},
   "outputs": [
    {
     "data": {
      "text/html": [
       "<div>\n",
       "<style scoped>\n",
       "    .dataframe tbody tr th:only-of-type {\n",
       "        vertical-align: middle;\n",
       "    }\n",
       "\n",
       "    .dataframe tbody tr th {\n",
       "        vertical-align: top;\n",
       "    }\n",
       "\n",
       "    .dataframe thead th {\n",
       "        text-align: right;\n",
       "    }\n",
       "</style>\n",
       "<table border=\"1\" class=\"dataframe\">\n",
       "  <thead>\n",
       "    <tr style=\"text-align: right;\">\n",
       "      <th></th>\n",
       "      <th>overall</th>\n",
       "      <th>verified</th>\n",
       "      <th>reviewTime</th>\n",
       "      <th>reviewerID</th>\n",
       "      <th>asin</th>\n",
       "      <th>style</th>\n",
       "      <th>reviewerName</th>\n",
       "      <th>reviewText</th>\n",
       "      <th>summary</th>\n",
       "      <th>unixReviewTime</th>\n",
       "      <th>vote</th>\n",
       "      <th>image</th>\n",
       "    </tr>\n",
       "  </thead>\n",
       "  <tbody>\n",
       "    <tr>\n",
       "      <th>0</th>\n",
       "      <td>5.0</td>\n",
       "      <td>True</td>\n",
       "      <td>09 4, 2015</td>\n",
       "      <td>ALJ66O1Y6SLHA</td>\n",
       "      <td>B000K2PJ4K</td>\n",
       "      <td>{'Size:': ' Big Boys', 'Color:': ' Blue/Orange'}</td>\n",
       "      <td>Tonya B.</td>\n",
       "      <td>Great product and price!</td>\n",
       "      <td>Five Stars</td>\n",
       "      <td>1441324800</td>\n",
       "      <td>NaN</td>\n",
       "      <td>NaN</td>\n",
       "    </tr>\n",
       "    <tr>\n",
       "      <th>1</th>\n",
       "      <td>5.0</td>\n",
       "      <td>True</td>\n",
       "      <td>09 4, 2015</td>\n",
       "      <td>ALJ66O1Y6SLHA</td>\n",
       "      <td>B000K2PJ4K</td>\n",
       "      <td>{'Size:': ' Big Boys', 'Color:': ' Black (3746...</td>\n",
       "      <td>Tonya B.</td>\n",
       "      <td>Great product and price!</td>\n",
       "      <td>Five Stars</td>\n",
       "      <td>1441324800</td>\n",
       "      <td>NaN</td>\n",
       "      <td>NaN</td>\n",
       "    </tr>\n",
       "    <tr>\n",
       "      <th>2</th>\n",
       "      <td>5.0</td>\n",
       "      <td>True</td>\n",
       "      <td>09 4, 2015</td>\n",
       "      <td>ALJ66O1Y6SLHA</td>\n",
       "      <td>B000K2PJ4K</td>\n",
       "      <td>{'Size:': ' Big Boys', 'Color:': ' Blue/Gray L...</td>\n",
       "      <td>Tonya B.</td>\n",
       "      <td>Great product and price!</td>\n",
       "      <td>Five Stars</td>\n",
       "      <td>1441324800</td>\n",
       "      <td>NaN</td>\n",
       "      <td>NaN</td>\n",
       "    </tr>\n",
       "    <tr>\n",
       "      <th>3</th>\n",
       "      <td>5.0</td>\n",
       "      <td>True</td>\n",
       "      <td>09 4, 2015</td>\n",
       "      <td>ALJ66O1Y6SLHA</td>\n",
       "      <td>B000K2PJ4K</td>\n",
       "      <td>{'Size:': ' Big Boys', 'Color:': ' Blue (37867...</td>\n",
       "      <td>Tonya B.</td>\n",
       "      <td>Great product and price!</td>\n",
       "      <td>Five Stars</td>\n",
       "      <td>1441324800</td>\n",
       "      <td>NaN</td>\n",
       "      <td>NaN</td>\n",
       "    </tr>\n",
       "    <tr>\n",
       "      <th>4</th>\n",
       "      <td>5.0</td>\n",
       "      <td>True</td>\n",
       "      <td>09 4, 2015</td>\n",
       "      <td>ALJ66O1Y6SLHA</td>\n",
       "      <td>B000K2PJ4K</td>\n",
       "      <td>{'Size:': ' Big Boys', 'Color:': ' Blue/Pink'}</td>\n",
       "      <td>Tonya B.</td>\n",
       "      <td>Great product and price!</td>\n",
       "      <td>Five Stars</td>\n",
       "      <td>1441324800</td>\n",
       "      <td>NaN</td>\n",
       "      <td>NaN</td>\n",
       "    </tr>\n",
       "  </tbody>\n",
       "</table>\n",
       "</div>"
      ],
      "text/plain": [
       "   overall  verified  reviewTime     reviewerID        asin  \\\n",
       "0      5.0      True  09 4, 2015  ALJ66O1Y6SLHA  B000K2PJ4K   \n",
       "1      5.0      True  09 4, 2015  ALJ66O1Y6SLHA  B000K2PJ4K   \n",
       "2      5.0      True  09 4, 2015  ALJ66O1Y6SLHA  B000K2PJ4K   \n",
       "3      5.0      True  09 4, 2015  ALJ66O1Y6SLHA  B000K2PJ4K   \n",
       "4      5.0      True  09 4, 2015  ALJ66O1Y6SLHA  B000K2PJ4K   \n",
       "\n",
       "                                               style reviewerName  \\\n",
       "0   {'Size:': ' Big Boys', 'Color:': ' Blue/Orange'}     Tonya B.   \n",
       "1  {'Size:': ' Big Boys', 'Color:': ' Black (3746...     Tonya B.   \n",
       "2  {'Size:': ' Big Boys', 'Color:': ' Blue/Gray L...     Tonya B.   \n",
       "3  {'Size:': ' Big Boys', 'Color:': ' Blue (37867...     Tonya B.   \n",
       "4     {'Size:': ' Big Boys', 'Color:': ' Blue/Pink'}     Tonya B.   \n",
       "\n",
       "                 reviewText     summary  unixReviewTime vote image  \n",
       "0  Great product and price!  Five Stars      1441324800  NaN   NaN  \n",
       "1  Great product and price!  Five Stars      1441324800  NaN   NaN  \n",
       "2  Great product and price!  Five Stars      1441324800  NaN   NaN  \n",
       "3  Great product and price!  Five Stars      1441324800  NaN   NaN  \n",
       "4  Great product and price!  Five Stars      1441324800  NaN   NaN  "
      ]
     },
     "execution_count": 2,
     "metadata": {},
     "output_type": "execute_result"
    }
   ],
   "source": [
    "df.head()"
   ]
  },
  {
   "cell_type": "code",
   "execution_count": 3,
   "metadata": {},
   "outputs": [],
   "source": [
    "df  = df[['overall', 'reviewText']]"
   ]
  },
  {
   "cell_type": "code",
   "execution_count": 4,
   "metadata": {},
   "outputs": [],
   "source": [
    "selected_reviews = df[df['reviewText'].str.split().str.len() > 100].head(50)\n"
   ]
  },
  {
   "cell_type": "code",
   "execution_count": 5,
   "metadata": {},
   "outputs": [
    {
     "data": {
      "text/html": [
       "<div>\n",
       "<style scoped>\n",
       "    .dataframe tbody tr th:only-of-type {\n",
       "        vertical-align: middle;\n",
       "    }\n",
       "\n",
       "    .dataframe tbody tr th {\n",
       "        vertical-align: top;\n",
       "    }\n",
       "\n",
       "    .dataframe thead th {\n",
       "        text-align: right;\n",
       "    }\n",
       "</style>\n",
       "<table border=\"1\" class=\"dataframe\">\n",
       "  <thead>\n",
       "    <tr style=\"text-align: right;\">\n",
       "      <th></th>\n",
       "      <th>overall</th>\n",
       "      <th>reviewText</th>\n",
       "    </tr>\n",
       "  </thead>\n",
       "  <tbody>\n",
       "    <tr>\n",
       "      <th>167</th>\n",
       "      <td>5.0</td>\n",
       "      <td>Great shoe. I've had Nike's before and have al...</td>\n",
       "    </tr>\n",
       "    <tr>\n",
       "      <th>204</th>\n",
       "      <td>4.0</td>\n",
       "      <td>Very good overall.\\nNow Ive been a huge Sketch...</td>\n",
       "    </tr>\n",
       "    <tr>\n",
       "      <th>208</th>\n",
       "      <td>5.0</td>\n",
       "      <td>Glad I read the reviews and ordered a half siz...</td>\n",
       "    </tr>\n",
       "    <tr>\n",
       "      <th>210</th>\n",
       "      <td>5.0</td>\n",
       "      <td>I love these, I had the previous iteration (or...</td>\n",
       "    </tr>\n",
       "    <tr>\n",
       "      <th>211</th>\n",
       "      <td>5.0</td>\n",
       "      <td>Super light-weight, decent arch support (mine ...</td>\n",
       "    </tr>\n",
       "  </tbody>\n",
       "</table>\n",
       "</div>"
      ],
      "text/plain": [
       "     overall                                         reviewText\n",
       "167      5.0  Great shoe. I've had Nike's before and have al...\n",
       "204      4.0  Very good overall.\\nNow Ive been a huge Sketch...\n",
       "208      5.0  Glad I read the reviews and ordered a half siz...\n",
       "210      5.0  I love these, I had the previous iteration (or...\n",
       "211      5.0  Super light-weight, decent arch support (mine ..."
      ]
     },
     "execution_count": 5,
     "metadata": {},
     "output_type": "execute_result"
    }
   ],
   "source": [
    "selected_reviews.head()"
   ]
  },
  {
   "cell_type": "code",
   "execution_count": 6,
   "metadata": {},
   "outputs": [],
   "source": [
    "selected_reviews['reviewLength'] = selected_reviews['reviewText'].apply(lambda x: len(x.split()))\n"
   ]
  },
  {
   "cell_type": "code",
   "execution_count": 7,
   "metadata": {},
   "outputs": [
    {
     "data": {
      "text/plain": [
       "count     50.000000\n",
       "mean     153.400000\n",
       "std       45.598514\n",
       "min      102.000000\n",
       "25%      123.000000\n",
       "50%      149.000000\n",
       "75%      162.000000\n",
       "max      272.000000\n",
       "Name: reviewLength, dtype: float64"
      ]
     },
     "execution_count": 7,
     "metadata": {},
     "output_type": "execute_result"
    }
   ],
   "source": [
    "selected_reviews['reviewLength'].describe()"
   ]
  },
  {
   "cell_type": "code",
   "execution_count": 8,
   "metadata": {},
   "outputs": [
    {
     "data": {
      "text/plain": [
       "<Axes: >"
      ]
     },
     "execution_count": 8,
     "metadata": {},
     "output_type": "execute_result"
    },
    {
     "data": {
      "image/png": "[encoded data removed]",
      "text/plain": [
       "<Figure size 640x480 with 1 Axes>"
      ]
     },
     "metadata": {},
     "output_type": "display_data"
    }
   ],
   "source": [
    "selected_reviews['reviewLength'].hist()"
   ]
  },
  {
   "cell_type": "code",
   "execution_count": 9,
   "metadata": {},
   "outputs": [
    {
     "data": {
      "text/plain": [
       "167    Great shoe. I've had Nike's before and have al...\n",
       "204    Very good overall.\\nNow Ive been a huge Sketch...\n",
       "208    Glad I read the reviews and ordered a half siz...\n",
       "210    I love these, I had the previous iteration (or...\n",
       "211    Super light-weight, decent arch support (mine ...\n",
       "Name: reviewText, dtype: object"
      ]
     },
     "execution_count": 9,
     "metadata": {},
     "output_type": "execute_result"
    }
   ],
   "source": [
    "selected_reviews['reviewText'].head(5)"
   ]
  },
  {
   "cell_type": "code",
   "execution_count": 10,
   "metadata": {},
   "outputs": [
    {
     "name": "stdout",
     "output_type": "stream",
     "text": [
      "WARNING:tensorflow:From c:\\Users\\gitan\\anaconda3\\Lib\\site-packages\\keras\\src\\losses.py:2976: The name tf.losses.sparse_softmax_cross_entropy is deprecated. Please use tf.compat.v1.losses.sparse_softmax_cross_entropy instead.\n",
      "\n",
      "WARNING:tensorflow:From c:\\Users\\gitan\\anaconda3\\Lib\\site-packages\\tensorflow_probability\\python\\internal\\backend\\numpy\\_utils.py:48: The name tf.logging.TaskLevelStatusMessage is deprecated. Please use tf.compat.v1.logging.TaskLevelStatusMessage instead.\n",
      "\n",
      "WARNING:tensorflow:From c:\\Users\\gitan\\anaconda3\\Lib\\site-packages\\tensorflow_probability\\python\\internal\\backend\\numpy\\_utils.py:48: The name tf.control_flow_v2_enabled is deprecated. Please use tf.compat.v1.control_flow_v2_enabled instead.\n",
      "\n"
     ]
    },
    {
     "name": "stderr",
     "output_type": "stream",
     "text": [
      "c:\\Users\\gitan\\anaconda3\\Lib\\site-packages\\transformers\\models\\t5\\tokenization_t5_fast.py:160: FutureWarning: This tokenizer was incorrectly instantiated with a model max length of 512 which will be corrected in Transformers v5.\n",
      "For now, this behavior is kept to avoid breaking backwards compatibility when padding/encoding with `truncation is True`.\n",
      "- Be aware that you SHOULD NOT rely on t5-base automatically truncating your input to 512 when padding/encoding.\n",
      "- If you want to encode/pad to sequences longer than 512 you can either instantiate this tokenizer with `model_max_length` or pass `max_length` when encoding/padding.\n",
      "- To avoid this warning, please instantiate this tokenizer with `model_max_length` set to your preferred value.\n",
      "  warnings.warn(\n"
     ]
    }
   ],
   "source": [
    "from transformers import pipeline\n",
    "\n",
    "# Load the pre-trained LLM model for summarization\n",
    "model_t5 = pipeline(\"summarization\", model=\"t5-base\", tokenizer=\"t5-base\")\n",
    "\n",
    "# Function to summarize the reviews and convert to 50 words length\n",
    "def summarize_reviews_t5(reviews):\n",
    "    summaries = []\n",
    "    for review in reviews:\n",
    "        summary = model_t5(review, max_length=50, min_length=50, do_sample=False)[0]['summary_text']\n",
    "        summaries.append(summary)\n",
    "    return summaries\n",
    "\n"
   ]
  },
  {
   "cell_type": "code",
   "execution_count": 11,
   "metadata": {},
   "outputs": [],
   "source": [
    "# Usage\n",
    "reviews = selected_reviews['reviewText'].astype('U').tolist()\n",
    "summaries_t5 = summarize_reviews_t5(reviews)\n"
   ]
  },
  {
   "cell_type": "code",
   "execution_count": 12,
   "metadata": {},
   "outputs": [
    {
     "data": {
      "text/plain": [
       "\"i've had Nike's before and have always been pleased with the comfort, performance, and quality . but this was the first time i ordered a pair online without trying them on first, so I was nervous .\""
      ]
     },
     "execution_count": 12,
     "metadata": {},
     "output_type": "execute_result"
    }
   ],
   "source": [
    "summaries_t5[0]"
   ]
  },
  {
   "cell_type": "code",
   "execution_count": 13,
   "metadata": {},
   "outputs": [],
   "source": [
    "selected_reviews['summary_t5'] = summaries_t5\n",
    "selected_reviews['summary_t5_length'] = selected_reviews['summary_t5'].apply(lambda x: len(x.split()))"
   ]
  },
  {
   "cell_type": "code",
   "execution_count": 14,
   "metadata": {},
   "outputs": [
    {
     "data": {
      "text/html": [
       "<div>\n",
       "<style scoped>\n",
       "    .dataframe tbody tr th:only-of-type {\n",
       "        vertical-align: middle;\n",
       "    }\n",
       "\n",
       "    .dataframe tbody tr th {\n",
       "        vertical-align: top;\n",
       "    }\n",
       "\n",
       "    .dataframe thead th {\n",
       "        text-align: right;\n",
       "    }\n",
       "</style>\n",
       "<table border=\"1\" class=\"dataframe\">\n",
       "  <thead>\n",
       "    <tr style=\"text-align: right;\">\n",
       "      <th></th>\n",
       "      <th>overall</th>\n",
       "      <th>reviewText</th>\n",
       "      <th>reviewLength</th>\n",
       "      <th>summary_t5</th>\n",
       "      <th>summary_t5_length</th>\n",
       "    </tr>\n",
       "  </thead>\n",
       "  <tbody>\n",
       "    <tr>\n",
       "      <th>167</th>\n",
       "      <td>5.0</td>\n",
       "      <td>Great shoe. I've had Nike's before and have al...</td>\n",
       "      <td>133</td>\n",
       "      <td>i've had Nike's before and have always been pl...</td>\n",
       "      <td>37</td>\n",
       "    </tr>\n",
       "    <tr>\n",
       "      <th>204</th>\n",
       "      <td>4.0</td>\n",
       "      <td>Very good overall.\\nNow Ive been a huge Sketch...</td>\n",
       "      <td>162</td>\n",
       "      <td>the sketchers go walk shoes are very sturdy an...</td>\n",
       "      <td>36</td>\n",
       "    </tr>\n",
       "    <tr>\n",
       "      <th>208</th>\n",
       "      <td>5.0</td>\n",
       "      <td>Glad I read the reviews and ordered a half siz...</td>\n",
       "      <td>123</td>\n",
       "      <td>I am a Beach Body Coach and these are now my f...</td>\n",
       "      <td>45</td>\n",
       "    </tr>\n",
       "    <tr>\n",
       "      <th>210</th>\n",
       "      <td>5.0</td>\n",
       "      <td>I love these, I had the previous iteration (or...</td>\n",
       "      <td>130</td>\n",
       "      <td>this is definitely a light-weight training sho...</td>\n",
       "      <td>39</td>\n",
       "    </tr>\n",
       "    <tr>\n",
       "      <th>211</th>\n",
       "      <td>5.0</td>\n",
       "      <td>Super light-weight, decent arch support (mine ...</td>\n",
       "      <td>188</td>\n",
       "      <td>i was pleasantly surprised by the sole/tread o...</td>\n",
       "      <td>38</td>\n",
       "    </tr>\n",
       "  </tbody>\n",
       "</table>\n",
       "</div>"
      ],
      "text/plain": [
       "     overall                                         reviewText  reviewLength  \\\n",
       "167      5.0  Great shoe. I've had Nike's before and have al...           133   \n",
       "204      4.0  Very good overall.\\nNow Ive been a huge Sketch...           162   \n",
       "208      5.0  Glad I read the reviews and ordered a half siz...           123   \n",
       "210      5.0  I love these, I had the previous iteration (or...           130   \n",
       "211      5.0  Super light-weight, decent arch support (mine ...           188   \n",
       "\n",
       "                                            summary_t5  summary_t5_length  \n",
       "167  i've had Nike's before and have always been pl...                 37  \n",
       "204  the sketchers go walk shoes are very sturdy an...                 36  \n",
       "208  I am a Beach Body Coach and these are now my f...                 45  \n",
       "210  this is definitely a light-weight training sho...                 39  \n",
       "211  i was pleasantly surprised by the sole/tread o...                 38  "
      ]
     },
     "execution_count": 14,
     "metadata": {},
     "output_type": "execute_result"
    }
   ],
   "source": [
    "selected_reviews.head()"
   ]
  },
  {
   "cell_type": "code",
   "execution_count": 15,
   "metadata": {},
   "outputs": [
    {
     "name": "stdout",
     "output_type": "stream",
     "text": [
      "  Index  reviewText                                                                                                                                                                                                                                                                                                                                                                                                                                                                                                                                                                                                                                                                                                                                                                                                                                                                                                                                                                                                                                   summary_t5\n",
      "-------  -------------------------------------------------------------------------------------------------------------------------------------------------------------------------------------------------------------------------------------------------------------------------------------------------------------------------------------------------------------------------------------------------------------------------------------------------------------------------------------------------------------------------------------------------------------------------------------------------------------------------------------------------------------------------------------------------------------------------------------------------------------------------------------------------------------------------------------------------------------------------------------------------------------------------------------------------------------------------------------------------------------------------------------------  --------------------------------------------------------------------------------------------------------------------------------------------------------------------------------------------------------------\n",
      "      0  Great shoe. I've had Nike's before and have always been pleased with the comfort, performance, and quality. Though I will say this was the first time I ordered a pair online without trying them on first, so I was nervous. But this turned out to be a great choice. Breathable, lightweight but sturdy, and comfortable during all my workouts. The built-in arch support is great and I've had no discomfort after 2 weeks of use. As far as the sole thickness and cushioning goes, I would consider these a 'medium' build (not thin, not overly thick) so if you're into heavy running outdoors then take that into consideration. Everyone is different in their preference for cushioning, but I think for light runs on a treadmill they would be sufficient. Love these, highly recommend!                                                                                                                                                                                                                                       i've had Nike's before and have always been pleased with the comfort, performance, and quality . but this was the first time i ordered a pair online without trying them on first, so I was nervous .\n",
      "      1  Very good overall.                                                                                                                                                                                                                                                                                                                                                                                                                                                                                                                                                                                                                                                                                                                                                                                                                                                                                                                                                                                                                           the sketchers go walk shoes are very sturdy and the grip of the soles has been very solid . if you're a Go Walk fan, these do not offer the same level of cushion-comfort as those\n",
      "         Now Ive been a huge Sketchers Go Walk fan for some time and the only reason I tried these instead of the latest number 4 of those is because the tread looked too slippery to me.\n",
      "         These shoes are very sturdy and the grip of the soles has been very solid so far. I use them for basic workout cardio and cross training, as well as work as a massage therapist (I go through shoes fast enough that Ive recently consolidated).\n",
      "         If you're a Go Walk fan, these do not offer the same level of cushion-comfort as those, HOWEVER, they offer the kind of long-term comfort to make them a durable option.\n",
      "         The material of the shoes seem very durable and the breathable. My feet do not feel hot in them.\n",
      "         Now these shoes are ideal for a basic workout or cross training, I would not get them to do 25,000 steps in Walt Disney World.\n",
      "         Solid choice, overall.\n",
      "      2  Glad I read the reviews and ordered a half size too big. These are light weight. I worked out in them last night and had a great work out. They are very comfortable. I would recommend these to anyone. I am a Beach Body Coach and these are now my new favorite shoes to work out in. I feel like I am walking in slippers when I wear these shoes. They are so comfortable. I LOVE them so much. I never buy myself anything nice and for Christmas got an Amazon gift card and used it to buy myself these sneakers and they are so awesome. I really do love them and have been telling all my friends about them. GET THESE SHOES!                                                                                                                                                                                                                                                                                                                                                                                                    I am a Beach Body Coach and these are now my favorite shoes to work out in . I feel like I am walking in slippers when I wear these shoes . for christmas got an amazon gift card and used it to buy these\n",
      "      3  I love these, I had the previous iteration (or maybe two earlier?) and finally wore them out after several years. They are definitely a light-weight training shoe so I wouldn't get them if you are going to be doing a lot of running. But this also makes them extremely comfortable, I hadn't realized how hot running shoes made my feet until I switched to these. Good support and my feet stay cool all day, also noticeably light but well-made and long lasting.                                                                                                                                                                                                                                                                                                                                                                                                                                                                                                                                                                   this is definitely a light-weight training shoe so I wouldn't get them if you are going to be doing a lot of running . but this also makes them extremely comfortable, my feet stay cool all day, also notice\n",
      "\n",
      "         I have worn them hiking in a pinch but don't really recommend it because the material is mesh-like and will let a lot of dirt in. But if you mainly take cardio classes and/or do weight training or just need something to wear around town look no further.\n",
      "      4  Super light-weight, decent arch support (mine is higher than average).  I was pleasantly surprised by the sole/tread on these for my circuit training classes, as I couldn't really tell by online pics.  Also pleasantly surprised that these ran ever so slightly bigger than Nike running shoes I use to wear 15+years ago - I always wore one to 1.5 sizes larger in their \"Hurache's\"/running shoes, so I was really worried my size 6 would be too small - there is actually more toe room in these shoes than any other size 6 shoe I own (athletic, heel, boot).  But it is the correct amount of room from big toe to edge of shoe for me (an inch or less, I don't want my big toe being jammed into edge of shoe when lunging, jumping, etc.).  Shoes arrived with an odd yellowish color on side of one shoe, but no damage to box, paper lining etc - I was happy that a clorox wipe easily cleaned the shoe and did not discolor any further.  I am very happy and highly recommend, although I have only worked out it once!  i was pleasantly surprised by the sole/tread on these for my circuit training classes, as I couldn't really tell by online pics . shoes arrived with an odd yellowish color on side of one shoe, but no damage\n"
     ]
    }
   ],
   "source": [
    "from tabulate import tabulate\n",
    "\n",
    "table_data = selected_reviews[['reviewText', 'summary_t5']].head(5).reset_index(drop=True).values.tolist()\n",
    "table_headers = ['Index', 'reviewText', 'summary_t5']\n",
    "\n",
    "print(tabulate(table_data, headers=table_headers, showindex=True))\n"
   ]
  },
  {
   "cell_type": "code",
   "execution_count": 16,
   "metadata": {},
   "outputs": [],
   "source": [
    "from transformers import pipeline, BartForConditionalGeneration, BartTokenizer\n",
    "\n",
    "# Load the pre-trained BART model for summarization\n",
    "model_bart = BartForConditionalGeneration.from_pretrained(\"facebook/bart-base\")\n",
    "tokenizer_bart = BartTokenizer.from_pretrained(\"facebook/bart-base\")\n",
    "\n",
    "def summarize_reviews_bart(reviews):\n",
    "    summaries = []\n",
    "    for review in reviews:\n",
    "        inputs = tokenizer_bart.encode(review, return_tensors=\"pt\", max_length=1024, truncation=True)\n",
    "        summary_ids = model_bart.generate(inputs, max_length=50, min_length=50, num_beams=4, early_stopping=True)\n",
    "        summary = tokenizer_bart.decode(summary_ids[0], skip_special_tokens=True)\n",
    "        summaries.append(summary)\n",
    "    return summaries\n"
   ]
  },
  {
   "cell_type": "code",
   "execution_count": 17,
   "metadata": {},
   "outputs": [],
   "source": [
    "summaries_bart = summarize_reviews_bart(reviews)"
   ]
  },
  {
   "cell_type": "code",
   "execution_count": 18,
   "metadata": {},
   "outputs": [
    {
     "data": {
      "text/plain": [
       "\"Great shoe. I've had Nike's before and have always been pleased with the comfort, performance, and quality. Though I will say this was the first time I ordered a pair online without trying them on first, so I was nervous\""
      ]
     },
     "execution_count": 18,
     "metadata": {},
     "output_type": "execute_result"
    }
   ],
   "source": [
    "summaries_bart[0]"
   ]
  },
  {
   "cell_type": "code",
   "execution_count": 19,
   "metadata": {},
   "outputs": [],
   "source": [
    "selected_reviews['summary_bart'] = summaries_bart\n",
    "selected_reviews['summary_bart_length'] = selected_reviews['summary_bart'].apply(lambda x: len(x.split()))"
   ]
  },
  {
   "cell_type": "code",
   "execution_count": 20,
   "metadata": {},
   "outputs": [
    {
     "data": {
      "text/html": [
       "<div>\n",
       "<style scoped>\n",
       "    .dataframe tbody tr th:only-of-type {\n",
       "        vertical-align: middle;\n",
       "    }\n",
       "\n",
       "    .dataframe tbody tr th {\n",
       "        vertical-align: top;\n",
       "    }\n",
       "\n",
       "    .dataframe thead th {\n",
       "        text-align: right;\n",
       "    }\n",
       "</style>\n",
       "<table border=\"1\" class=\"dataframe\">\n",
       "  <thead>\n",
       "    <tr style=\"text-align: right;\">\n",
       "      <th></th>\n",
       "      <th>overall</th>\n",
       "      <th>reviewText</th>\n",
       "      <th>reviewLength</th>\n",
       "      <th>summary_t5</th>\n",
       "      <th>summary_t5_length</th>\n",
       "      <th>summary_bart</th>\n",
       "      <th>summary_bart_length</th>\n",
       "    </tr>\n",
       "  </thead>\n",
       "  <tbody>\n",
       "    <tr>\n",
       "      <th>167</th>\n",
       "      <td>5.0</td>\n",
       "      <td>Great shoe. I've had Nike's before and have al...</td>\n",
       "      <td>133</td>\n",
       "      <td>i've had Nike's before and have always been pl...</td>\n",
       "      <td>37</td>\n",
       "      <td>Great shoe. I've had Nike's before and have al...</td>\n",
       "      <td>40</td>\n",
       "    </tr>\n",
       "    <tr>\n",
       "      <th>204</th>\n",
       "      <td>4.0</td>\n",
       "      <td>Very good overall.\\nNow Ive been a huge Sketch...</td>\n",
       "      <td>162</td>\n",
       "      <td>the sketchers go walk shoes are very sturdy an...</td>\n",
       "      <td>36</td>\n",
       "      <td>Very good overall. I would not get them to do ...</td>\n",
       "      <td>39</td>\n",
       "    </tr>\n",
       "    <tr>\n",
       "      <th>208</th>\n",
       "      <td>5.0</td>\n",
       "      <td>Glad I read the reviews and ordered a half siz...</td>\n",
       "      <td>123</td>\n",
       "      <td>I am a Beach Body Coach and these are now my f...</td>\n",
       "      <td>45</td>\n",
       "      <td>Glad I read the reviews and ordered a half siz...</td>\n",
       "      <td>41</td>\n",
       "    </tr>\n",
       "    <tr>\n",
       "      <th>210</th>\n",
       "      <td>5.0</td>\n",
       "      <td>I love these, I had the previous iteration (or...</td>\n",
       "      <td>130</td>\n",
       "      <td>this is definitely a light-weight training sho...</td>\n",
       "      <td>39</td>\n",
       "      <td>I love these, I had the previous iteration (or...</td>\n",
       "      <td>40</td>\n",
       "    </tr>\n",
       "    <tr>\n",
       "      <th>211</th>\n",
       "      <td>5.0</td>\n",
       "      <td>Super light-weight, decent arch support (mine ...</td>\n",
       "      <td>188</td>\n",
       "      <td>i was pleasantly surprised by the sole/tread o...</td>\n",
       "      <td>38</td>\n",
       "      <td>Super light-weight, decent arch support (mine ...</td>\n",
       "      <td>34</td>\n",
       "    </tr>\n",
       "  </tbody>\n",
       "</table>\n",
       "</div>"
      ],
      "text/plain": [
       "     overall                                         reviewText  reviewLength  \\\n",
       "167      5.0  Great shoe. I've had Nike's before and have al...           133   \n",
       "204      4.0  Very good overall.\\nNow Ive been a huge Sketch...           162   \n",
       "208      5.0  Glad I read the reviews and ordered a half siz...           123   \n",
       "210      5.0  I love these, I had the previous iteration (or...           130   \n",
       "211      5.0  Super light-weight, decent arch support (mine ...           188   \n",
       "\n",
       "                                            summary_t5  summary_t5_length  \\\n",
       "167  i've had Nike's before and have always been pl...                 37   \n",
       "204  the sketchers go walk shoes are very sturdy an...                 36   \n",
       "208  I am a Beach Body Coach and these are now my f...                 45   \n",
       "210  this is definitely a light-weight training sho...                 39   \n",
       "211  i was pleasantly surprised by the sole/tread o...                 38   \n",
       "\n",
       "                                          summary_bart  summary_bart_length  \n",
       "167  Great shoe. I've had Nike's before and have al...                   40  \n",
       "204  Very good overall. I would not get them to do ...                   39  \n",
       "208  Glad I read the reviews and ordered a half siz...                   41  \n",
       "210  I love these, I had the previous iteration (or...                   40  \n",
       "211  Super light-weight, decent arch support (mine ...                   34  "
      ]
     },
     "execution_count": 20,
     "metadata": {},
     "output_type": "execute_result"
    }
   ],
   "source": [
    "selected_reviews.head()"
   ]
  },
  {
   "cell_type": "code",
   "execution_count": 21,
   "metadata": {},
   "outputs": [
    {
     "name": "stdout",
     "output_type": "stream",
     "text": [
      "  Index  reviewText                                                                                                                                                                                                                                                                                                                                                                                                                                                                                                                                                                                                                                                                                                                                                                                                                                                                                                                                                                                                                                   summary_bart\n",
      "-------  -------------------------------------------------------------------------------------------------------------------------------------------------------------------------------------------------------------------------------------------------------------------------------------------------------------------------------------------------------------------------------------------------------------------------------------------------------------------------------------------------------------------------------------------------------------------------------------------------------------------------------------------------------------------------------------------------------------------------------------------------------------------------------------------------------------------------------------------------------------------------------------------------------------------------------------------------------------------------------------------------------------------------------------------  ----------------------------------------------------------------------------------------------------------------------------------------------------------------------------------------------------------------------------\n",
      "      0  Great shoe. I've had Nike's before and have always been pleased with the comfort, performance, and quality. Though I will say this was the first time I ordered a pair online without trying them on first, so I was nervous. But this turned out to be a great choice. Breathable, lightweight but sturdy, and comfortable during all my workouts. The built-in arch support is great and I've had no discomfort after 2 weeks of use. As far as the sole thickness and cushioning goes, I would consider these a 'medium' build (not thin, not overly thick) so if you're into heavy running outdoors then take that into consideration. Everyone is different in their preference for cushioning, but I think for light runs on a treadmill they would be sufficient. Love these, highly recommend!                                                                                                                                                                                                                                       Great shoe. I've had Nike's before and have always been pleased with the comfort, performance, and quality. Though I will say this was the first time I ordered a pair online without trying them on first, so I was nervous\n",
      "      1  Very good overall.                                                                                                                                                                                                                                                                                                                                                                                                                                                                                                                                                                                                                                                                                                                                                                                                                                                                                                                                                                                                                           Very good overall. I would not get them to do 25,000 steps in Walt Disney World.Now Ive been a huge Sketchers Go Walk fan for some time and the only reason I tried these instead of the latest number\n",
      "         Now Ive been a huge Sketchers Go Walk fan for some time and the only reason I tried these instead of the latest number 4 of those is because the tread looked too slippery to me.\n",
      "         These shoes are very sturdy and the grip of the soles has been very solid so far. I use them for basic workout cardio and cross training, as well as work as a massage therapist (I go through shoes fast enough that Ive recently consolidated).\n",
      "         If you're a Go Walk fan, these do not offer the same level of cushion-comfort as those, HOWEVER, they offer the kind of long-term comfort to make them a durable option.\n",
      "         The material of the shoes seem very durable and the breathable. My feet do not feel hot in them.\n",
      "         Now these shoes are ideal for a basic workout or cross training, I would not get them to do 25,000 steps in Walt Disney World.\n",
      "         Solid choice, overall.\n",
      "      2  Glad I read the reviews and ordered a half size too big. These are light weight. I worked out in them last night and had a great work out. They are very comfortable. I would recommend these to anyone. I am a Beach Body Coach and these are now my new favorite shoes to work out in. I feel like I am walking in slippers when I wear these shoes. They are so comfortable. I LOVE them so much. I never buy myself anything nice and for Christmas got an Amazon gift card and used it to buy myself these sneakers and they are so awesome. I really do love them and have been telling all my friends about them. GET THESE SHOES!                                                                                                                                                                                                                                                                                                                                                                                                    Glad I read the reviews and ordered a half size too big. These are light weight. I worked out in them last night and had a great work out. They are very comfortable. I would recommend these to anyone. I am\n",
      "      3  I love these, I had the previous iteration (or maybe two earlier?) and finally wore them out after several years. They are definitely a light-weight training shoe so I wouldn't get them if you are going to be doing a lot of running. But this also makes them extremely comfortable, I hadn't realized how hot running shoes made my feet until I switched to these. Good support and my feet stay cool all day, also noticeably light but well-made and long lasting.                                                                                                                                                                                                                                                                                                                                                                                                                                                                                                                                                                   I love these, I had the previous iteration (or maybe two earlier?) and finally wore them out after several years. They are definitely a light-weight training shoe so I wouldn't get them if you are going to be doing a\n",
      "\n",
      "         I have worn them hiking in a pinch but don't really recommend it because the material is mesh-like and will let a lot of dirt in. But if you mainly take cardio classes and/or do weight training or just need something to wear around town look no further.\n",
      "      4  Super light-weight, decent arch support (mine is higher than average).  I was pleasantly surprised by the sole/tread on these for my circuit training classes, as I couldn't really tell by online pics.  Also pleasantly surprised that these ran ever so slightly bigger than Nike running shoes I use to wear 15+years ago - I always wore one to 1.5 sizes larger in their \"Hurache's\"/running shoes, so I was really worried my size 6 would be too small - there is actually more toe room in these shoes than any other size 6 shoe I own (athletic, heel, boot).  But it is the correct amount of room from big toe to edge of shoe for me (an inch or less, I don't want my big toe being jammed into edge of shoe when lunging, jumping, etc.).  Shoes arrived with an odd yellowish color on side of one shoe, but no damage to box, paper lining etc - I was happy that a clorox wipe easily cleaned the shoe and did not discolor any further.  I am very happy and highly recommend, although I have only worked out it once!  Super light-weight, decent arch support (mine is higher than average).  I was pleasantly surprised by the sole/tread on these for my circuit training classes, as I couldn't really tell by online pics.  Also pleasantly\n"
     ]
    }
   ],
   "source": [
    "from tabulate import tabulate\n",
    "\n",
    "table_data = selected_reviews[['reviewText', 'summary_bart']].head(5).reset_index(drop=True).values.tolist()\n",
    "table_headers = ['Index', 'reviewText', 'summary_bart']\n",
    "\n",
    "print(tabulate(table_data, headers=table_headers, showindex=True))\n"
   ]
  },
  {
   "cell_type": "code",
   "execution_count": 22,
   "metadata": {},
   "outputs": [
    {
     "name": "stdout",
     "output_type": "stream",
     "text": [
      "  Index  summary_t5                                                                                                                                                                                                      summary_bart\n",
      "-------  --------------------------------------------------------------------------------------------------------------------------------------------------------------------------------------------------------------  ----------------------------------------------------------------------------------------------------------------------------------------------------------------------------------------------------------------------------\n",
      "      0  i've had Nike's before and have always been pleased with the comfort, performance, and quality . but this was the first time i ordered a pair online without trying them on first, so I was nervous .           Great shoe. I've had Nike's before and have always been pleased with the comfort, performance, and quality. Though I will say this was the first time I ordered a pair online without trying them on first, so I was nervous\n",
      "      1  the sketchers go walk shoes are very sturdy and the grip of the soles has been very solid . if you're a Go Walk fan, these do not offer the same level of cushion-comfort as those                              Very good overall. I would not get them to do 25,000 steps in Walt Disney World.Now Ive been a huge Sketchers Go Walk fan for some time and the only reason I tried these instead of the latest number\n",
      "      2  I am a Beach Body Coach and these are now my favorite shoes to work out in . I feel like I am walking in slippers when I wear these shoes . for christmas got an amazon gift card and used it to buy these      Glad I read the reviews and ordered a half size too big. These are light weight. I worked out in them last night and had a great work out. They are very comfortable. I would recommend these to anyone. I am\n",
      "      3  this is definitely a light-weight training shoe so I wouldn't get them if you are going to be doing a lot of running . but this also makes them extremely comfortable, my feet stay cool all day, also notice   I love these, I had the previous iteration (or maybe two earlier?) and finally wore them out after several years. They are definitely a light-weight training shoe so I wouldn't get them if you are going to be doing a\n",
      "      4  i was pleasantly surprised by the sole/tread on these for my circuit training classes, as I couldn't really tell by online pics . shoes arrived with an odd yellowish color on side of one shoe, but no damage  Super light-weight, decent arch support (mine is higher than average).  I was pleasantly surprised by the sole/tread on these for my circuit training classes, as I couldn't really tell by online pics.  Also pleasantly\n"
     ]
    }
   ],
   "source": [
    "from tabulate import tabulate\n",
    "\n",
    "table_data = selected_reviews[['summary_t5', 'summary_bart']].head(5).reset_index(drop=True).values.tolist()\n",
    "table_headers = ['Index', 'summary_t5', 'summary_bart']\n",
    "\n",
    "print(tabulate(table_data, headers=table_headers, showindex=True))"
   ]
  },
  {
   "cell_type": "code",
   "execution_count": 23,
   "metadata": {},
   "outputs": [
    {
     "name": "stdout",
     "output_type": "stream",
     "text": [
      "  Index    reviewLength    summary_t5_length    summary_bart_length\n",
      "-------  --------------  -------------------  ---------------------\n",
      "      0             133                   37                     40\n",
      "      1             162                   36                     39\n",
      "      2             123                   45                     41\n",
      "      3             130                   39                     40\n",
      "      4             188                   38                     34\n"
     ]
    }
   ],
   "source": [
    "from tabulate import tabulate\n",
    "\n",
    "table_data = selected_reviews[['reviewLength','summary_t5_length', 'summary_bart_length']].head(5).reset_index(drop=True).values.tolist()\n",
    "table_headers = ['Index', 'reviewLength','summary_t5_length', 'summary_bart_length']\n",
    "\n",
    "print(tabulate(table_data, headers=table_headers, showindex=True))"
   ]
  },
  {
   "cell_type": "markdown",
   "metadata": {},
   "source": [
    "Part 2\n"
   ]
  },
  {
   "cell_type": "code",
   "execution_count": 24,
   "metadata": {},
   "outputs": [],
   "source": [
    "question_reviews = df[df['reviewText'].astype('U').str.contains('\\?', case=False)]\n"
   ]
  },
  {
   "cell_type": "code",
   "execution_count": 25,
   "metadata": {},
   "outputs": [
    {
     "data": {
      "text/plain": [
       "(24, 2)"
      ]
     },
     "execution_count": 25,
     "metadata": {},
     "output_type": "execute_result"
    }
   ],
   "source": [
    "question_reviews.shape"
   ]
  },
  {
   "cell_type": "code",
   "execution_count": 26,
   "metadata": {},
   "outputs": [
    {
     "name": "stderr",
     "output_type": "stream",
     "text": [
      "C:\\Users\\gitan\\AppData\\Local\\Temp\\ipykernel_26948\\1727643506.py:1: SettingWithCopyWarning: \n",
      "A value is trying to be set on a copy of a slice from a DataFrame\n",
      "\n",
      "See the caveats in the documentation: https://pandas.pydata.org/pandas-docs/stable/user_guide/indexing.html#returning-a-view-versus-a-copy\n",
      "  question_reviews.drop_duplicates(subset='reviewText', inplace=True)\n"
     ]
    }
   ],
   "source": [
    "question_reviews.drop_duplicates(subset='reviewText', inplace=True)\n"
   ]
  },
  {
   "cell_type": "code",
   "execution_count": 27,
   "metadata": {},
   "outputs": [
    {
     "data": {
      "text/plain": [
       "(3, 2)"
      ]
     },
     "execution_count": 27,
     "metadata": {},
     "output_type": "execute_result"
    }
   ],
   "source": [
    "question_reviews.shape"
   ]
  },
  {
   "cell_type": "code",
   "execution_count": 28,
   "metadata": {},
   "outputs": [
    {
     "data": {
      "text/html": [
       "<div>\n",
       "<style scoped>\n",
       "    .dataframe tbody tr th:only-of-type {\n",
       "        vertical-align: middle;\n",
       "    }\n",
       "\n",
       "    .dataframe tbody tr th {\n",
       "        vertical-align: top;\n",
       "    }\n",
       "\n",
       "    .dataframe thead th {\n",
       "        text-align: right;\n",
       "    }\n",
       "</style>\n",
       "<table border=\"1\" class=\"dataframe\">\n",
       "  <thead>\n",
       "    <tr style=\"text-align: right;\">\n",
       "      <th></th>\n",
       "      <th>overall</th>\n",
       "      <th>reviewText</th>\n",
       "    </tr>\n",
       "  </thead>\n",
       "  <tbody>\n",
       "    <tr>\n",
       "      <th>210</th>\n",
       "      <td>5.0</td>\n",
       "      <td>I love these, I had the previous iteration (or...</td>\n",
       "    </tr>\n",
       "    <tr>\n",
       "      <th>315</th>\n",
       "      <td>3.0</td>\n",
       "      <td>Ugh... way to large - is this for a man?</td>\n",
       "    </tr>\n",
       "    <tr>\n",
       "      <th>369</th>\n",
       "      <td>5.0</td>\n",
       "      <td>It's hard to find a lightweight athletic shoe ...</td>\n",
       "    </tr>\n",
       "  </tbody>\n",
       "</table>\n",
       "</div>"
      ],
      "text/plain": [
       "     overall                                         reviewText\n",
       "210      5.0  I love these, I had the previous iteration (or...\n",
       "315      3.0           Ugh... way to large - is this for a man?\n",
       "369      5.0  It's hard to find a lightweight athletic shoe ..."
      ]
     },
     "execution_count": 28,
     "metadata": {},
     "output_type": "execute_result"
    }
   ],
   "source": [
    "question_reviews"
   ]
  },
  {
   "cell_type": "code",
   "execution_count": 29,
   "metadata": {},
   "outputs": [],
   "source": [
    "from transformers import pipeline\n",
    "from transformers import pipeline\n",
    "\n",
    "# Load the pre-trained LLM model for text generation\n",
    "model_llm = pipeline(\"text-generation\", model=\"gpt2\")\n",
    "\n",
    "# Function to generate response using the LLM model\n",
    "def generate_response(review):\n",
    "    prompt = \"As an Amazon service representative, answer the following question from a customer.\"\n",
    "    response = model_llm(prompt + review, max_length=100, do_sample=True, temperature=0.7)[0]['generated_text']\n",
    "    return response\n",
    "\n"
   ]
  },
  {
   "cell_type": "code",
   "execution_count": 30,
   "metadata": {},
   "outputs": [
    {
     "name": "stderr",
     "output_type": "stream",
     "text": [
      "Setting `pad_token_id` to `eos_token_id`:50256 for open-end generation.\n",
      "c:\\Users\\gitan\\anaconda3\\Lib\\site-packages\\transformers\\generation\\utils.py:1392: UserWarning: Input length of input_ids is 168, but `max_length` is set to 100. This can lead to unexpected behavior. You should consider increasing `max_new_tokens`.\n",
      "  warnings.warn(\n",
      "Setting `pad_token_id` to `eos_token_id`:50256 for open-end generation.\n",
      "Setting `pad_token_id` to `eos_token_id`:50256 for open-end generation.\n"
     ]
    }
   ],
   "source": [
    "# Example usage\n",
    "reviews_ques = question_reviews['reviewText'].astype('U').tolist()\n",
    "responses_ans = [generate_response(review) for review in reviews_ques]"
   ]
  },
  {
   "cell_type": "code",
   "execution_count": 31,
   "metadata": {},
   "outputs": [
    {
     "data": {
      "text/plain": [
       "(3, 2)"
      ]
     },
     "execution_count": 31,
     "metadata": {},
     "output_type": "execute_result"
    }
   ],
   "source": [
    "question_reviews.shape"
   ]
  },
  {
   "cell_type": "code",
   "execution_count": 32,
   "metadata": {},
   "outputs": [
    {
     "data": {
      "text/plain": [
       "3"
      ]
     },
     "execution_count": 32,
     "metadata": {},
     "output_type": "execute_result"
    }
   ],
   "source": [
    "len(responses_ans)"
   ]
  },
  {
   "cell_type": "code",
   "execution_count": 33,
   "metadata": {},
   "outputs": [],
   "source": [
    "def remove_before_newline(string):\n",
    "    index = string.find(\"\\n\\n\")\n",
    "    if index != -1:\n",
    "        return string[index+2:]\n",
    "    else:\n",
    "        return string\n"
   ]
  },
  {
   "cell_type": "code",
   "execution_count": 34,
   "metadata": {},
   "outputs": [],
   "source": [
    "responses_ans = list(map(remove_before_newline, responses_ans))\n"
   ]
  },
  {
   "cell_type": "code",
   "execution_count": 35,
   "metadata": {},
   "outputs": [
    {
     "name": "stderr",
     "output_type": "stream",
     "text": [
      "C:\\Users\\gitan\\AppData\\Local\\Temp\\ipykernel_26948\\1498965542.py:1: SettingWithCopyWarning: \n",
      "A value is trying to be set on a copy of a slice from a DataFrame.\n",
      "Try using .loc[row_indexer,col_indexer] = value instead\n",
      "\n",
      "See the caveats in the documentation: https://pandas.pydata.org/pandas-docs/stable/user_guide/indexing.html#returning-a-view-versus-a-copy\n",
      "  question_reviews['answers'] = responses_ans\n"
     ]
    }
   ],
   "source": [
    "question_reviews['answers'] = responses_ans"
   ]
  },
  {
   "cell_type": "code",
   "execution_count": 36,
   "metadata": {},
   "outputs": [
    {
     "name": "stdout",
     "output_type": "stream",
     "text": [
      "     overall                                         reviewText  \\\n",
      "210      5.0  I love these, I had the previous iteration (or...   \n",
      "315      3.0           Ugh... way to large - is this for a man?   \n",
      "369      5.0  It's hard to find a lightweight athletic shoe ...   \n",
      "\n",
      "                                               answers  \n",
      "210  I have worn them hiking in a pinch but don't r...  \n",
      "315  As an Amazon service representative, answer th...  \n",
      "369  As an Amazon service representative, answer th...  \n"
     ]
    }
   ],
   "source": [
    "print(question_reviews.head())"
   ]
  },
  {
   "cell_type": "code",
   "execution_count": 37,
   "metadata": {},
   "outputs": [],
   "source": [
    "a = question_reviews['answers']"
   ]
  },
  {
   "cell_type": "code",
   "execution_count": 42,
   "metadata": {},
   "outputs": [
    {
     "name": "stdout",
     "output_type": "stream",
     "text": [
      "I have worn them hiking in a pinch but don't really recommend it because the material is mesh-like and will let a lot of dirt in. But if you mainly take cardio classes and/or do weight training or just need something to wear around town look no further.\n",
      "\n"
     ]
    }
   ],
   "source": [
    "print(a[210])"
   ]
  },
  {
   "cell_type": "code",
   "execution_count": 43,
   "metadata": {},
   "outputs": [
    {
     "name": "stdout",
     "output_type": "stream",
     "text": [
      "As an Amazon service representative, answer the following question from a customer.Ugh... way to large - is this for a man?No. We'll let you know on the back of your email if this is for the man.When you say that, you're getting the wrong type of response. If you're like me, you're looking at the data that's available to you on a daily basis. And it's not enough to just say \"OK Google, I'll get it from\n"
     ]
    }
   ],
   "source": [
    "print(a[315])"
   ]
  },
  {
   "cell_type": "code",
   "execution_count": 38,
   "metadata": {},
   "outputs": [
    {
     "name": "stdout",
     "output_type": "stream",
     "text": [
      "As an Amazon service representative, answer the following question from a customer.It's hard to find a lightweight athletic shoe with a wide toe box. This shoe has that. I am happy with the support for walking and everyday wear. I wouldn't run in them. Now I just have to stock up on as many pair as I can afford before Nike discontinues them :). Don't you hate when that happens? I'm not sure if I would have a problem buying, but I do wish I\n"
     ]
    }
   ],
   "source": [
    "print(a[369])"
   ]
  },
  {
   "cell_type": "code",
   "execution_count": 39,
   "metadata": {},
   "outputs": [
    {
     "name": "stderr",
     "output_type": "stream",
     "text": [
      "Setting `pad_token_id` to `eos_token_id`:50256 for open-end generation.\n"
     ]
    }
   ],
   "source": [
    "review_selected = \"is this product available in different colors?\"\n",
    "\n",
    "answer = generate_response(review_selected)"
   ]
  },
  {
   "cell_type": "code",
   "execution_count": 40,
   "metadata": {},
   "outputs": [],
   "source": [
    "answer = remove_before_newline(answer)"
   ]
  },
  {
   "cell_type": "code",
   "execution_count": 41,
   "metadata": {},
   "outputs": [
    {
     "data": {
      "text/plain": [
       "\"Yes, it's available in a clear, square black or white color.\\n\\nWhen do you ship to Amazon?\\n\\nAmazon Shipments are shipped on the same day as the order is fulfilled.\\n\\nWhat is the product price?\\n\\nThe product price is the product's retail price when it is shipped.\\n\\nWhat is the shipping method?\\n\\nThe\""
      ]
     },
     "execution_count": 41,
     "metadata": {},
     "output_type": "execute_result"
    }
   ],
   "source": [
    "answer"
   ]
  },
  {
   "cell_type": "markdown",
   "metadata": {},
   "source": []
  }
 ],
 "metadata": {
  "kernelspec": {
   "display_name": "base",
   "language": "python",
   "name": "python3"
  },
  "language_info": {
   "codemirror_mode": {
    "name": "ipython",
    "version": 3
   },
   "file_extension": ".py",
   "mimetype": "text/x-python",
   "name": "python",
   "nbconvert_exporter": "python",
   "pygments_lexer": "ipython3",
   "version": "3.11.5"
  }
 },
 "nbformat": 4,
 "nbformat_minor": 2
}
