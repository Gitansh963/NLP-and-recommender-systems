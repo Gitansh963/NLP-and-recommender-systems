{
 "cells": [
  {
   "cell_type": "code",
   "execution_count": 1,
   "metadata": {},
   "outputs": [],
   "source": [
    "import json\n",
    "import pandas as pd\n",
    "import numpy as np\n",
    "import matplotlib.pyplot as plt\n",
    "\n",
    "\n",
    "file_path = \"D:/Sem6/COMP 262 - NLP and Recommender Systems/Project/AMAZON_FASHION.json\"\n",
    "\n",
    "reviews = []\n",
    "with open(file_path, \"r\") as file:\n",
    "    for line in file:\n",
    "        reviews.append(json.loads(line))\n",
    "    \n",
    "df_original = pd.DataFrame.from_dict(reviews)"
   ]
  },
  {
   "cell_type": "code",
   "execution_count": 2,
   "metadata": {},
   "outputs": [
    {
     "data": {
      "text/plain": [
       "Index(['overall', 'verified', 'reviewTime', 'reviewerID', 'asin',\n",
       "       'reviewerName', 'reviewText', 'summary', 'unixReviewTime', 'vote',\n",
       "       'style', 'image'],\n",
       "      dtype='object')"
      ]
     },
     "execution_count": 2,
     "metadata": {},
     "output_type": "execute_result"
    }
   ],
   "source": [
    "df_original.columns"
   ]
  },
  {
   "cell_type": "code",
   "execution_count": 3,
   "metadata": {},
   "outputs": [],
   "source": [
    "df = pd.DataFrame(df_original, columns = ['overall', 'reviewText', 'summary', 'asin'])\n"
   ]
  },
  {
   "cell_type": "code",
   "execution_count": 4,
   "metadata": {},
   "outputs": [],
   "source": [
    "df['review'] =  df['reviewText'] + ' ' + df['summary']"
   ]
  },
  {
   "cell_type": "code",
   "execution_count": 5,
   "metadata": {},
   "outputs": [],
   "source": [
    "df = df [['overall', 'review', 'asin']]"
   ]
  },
  {
   "cell_type": "code",
   "execution_count": 6,
   "metadata": {},
   "outputs": [
    {
     "data": {
      "text/plain": [
       "(883636, 3)"
      ]
     },
     "execution_count": 6,
     "metadata": {},
     "output_type": "execute_result"
    }
   ],
   "source": [
    "df.shape"
   ]
  },
  {
   "cell_type": "code",
   "execution_count": 7,
   "metadata": {},
   "outputs": [],
   "source": [
    "df = df.drop_duplicates()"
   ]
  },
  {
   "cell_type": "code",
   "execution_count": 8,
   "metadata": {},
   "outputs": [
    {
     "data": {
      "text/plain": [
       "(873740, 3)"
      ]
     },
     "execution_count": 8,
     "metadata": {},
     "output_type": "execute_result"
    }
   ],
   "source": [
    "df.shape"
   ]
  },
  {
   "cell_type": "code",
   "execution_count": 9,
   "metadata": {},
   "outputs": [],
   "source": [
    "import re\n",
    "\n",
    "def preprocess_text(text):\n",
    "    text = text.lower()\n",
    "    text = re.sub(r'[^\\w\\s]', '', text)\n",
    "    text = re.sub(r'\\d+', '', text)\n",
    "    return text"
   ]
  },
  {
   "cell_type": "code",
   "execution_count": 10,
   "metadata": {},
   "outputs": [],
   "source": [
    "df['review'] = df['review'].astype('U').apply(preprocess_text)"
   ]
  },
  {
   "cell_type": "code",
   "execution_count": 11,
   "metadata": {},
   "outputs": [],
   "source": [
    "from nltk.corpus import stopwords\n",
    "from nltk.tokenize import word_tokenize\n",
    "stop_words = set(stopwords.words('english'))\n",
    "df['review'] = df['review'].apply(lambda x: ' '.join([word for word in word_tokenize(x.lower()) if word not in stop_words]))\n"
   ]
  },
  {
   "cell_type": "code",
   "execution_count": 12,
   "metadata": {},
   "outputs": [
    {
     "data": {
      "text/html": [
       "<div>\n",
       "<style scoped>\n",
       "    .dataframe tbody tr th:only-of-type {\n",
       "        vertical-align: middle;\n",
       "    }\n",
       "\n",
       "    .dataframe tbody tr th {\n",
       "        vertical-align: top;\n",
       "    }\n",
       "\n",
       "    .dataframe thead th {\n",
       "        text-align: right;\n",
       "    }\n",
       "</style>\n",
       "<table border=\"1\" class=\"dataframe\">\n",
       "  <thead>\n",
       "    <tr style=\"text-align: right;\">\n",
       "      <th></th>\n",
       "      <th>overall</th>\n",
       "      <th>review</th>\n",
       "      <th>asin</th>\n",
       "    </tr>\n",
       "  </thead>\n",
       "  <tbody>\n",
       "    <tr>\n",
       "      <th>0</th>\n",
       "      <td>5.0</td>\n",
       "      <td>exactly needed perfect replacements</td>\n",
       "      <td>7106116521</td>\n",
       "    </tr>\n",
       "    <tr>\n",
       "      <th>1</th>\n",
       "      <td>2.0</td>\n",
       "      <td>agree review opening small almost bent hook ex...</td>\n",
       "      <td>7106116521</td>\n",
       "    </tr>\n",
       "    <tr>\n",
       "      <th>2</th>\n",
       "      <td>4.0</td>\n",
       "      <td>love going order another pack keep work someon...</td>\n",
       "      <td>7106116521</td>\n",
       "    </tr>\n",
       "    <tr>\n",
       "      <th>3</th>\n",
       "      <td>2.0</td>\n",
       "      <td>tiny opening two stars</td>\n",
       "      <td>7106116521</td>\n",
       "    </tr>\n",
       "    <tr>\n",
       "      <th>4</th>\n",
       "      <td>3.0</td>\n",
       "      <td>okay three stars</td>\n",
       "      <td>7106116521</td>\n",
       "    </tr>\n",
       "  </tbody>\n",
       "</table>\n",
       "</div>"
      ],
      "text/plain": [
       "   overall                                             review        asin\n",
       "0      5.0                exactly needed perfect replacements  7106116521\n",
       "1      2.0  agree review opening small almost bent hook ex...  7106116521\n",
       "2      4.0  love going order another pack keep work someon...  7106116521\n",
       "3      2.0                             tiny opening two stars  7106116521\n",
       "4      3.0                                   okay three stars  7106116521"
      ]
     },
     "execution_count": 12,
     "metadata": {},
     "output_type": "execute_result"
    }
   ],
   "source": [
    "df.head()"
   ]
  },
  {
   "cell_type": "code",
   "execution_count": 13,
   "metadata": {},
   "outputs": [],
   "source": [
    "df = df[df['review'] != ' ']"
   ]
  },
  {
   "cell_type": "code",
   "execution_count": 14,
   "metadata": {},
   "outputs": [
    {
     "data": {
      "text/plain": [
       "(873740, 3)"
      ]
     },
     "execution_count": 14,
     "metadata": {},
     "output_type": "execute_result"
    }
   ],
   "source": [
    "df.shape"
   ]
  },
  {
   "cell_type": "markdown",
   "metadata": {},
   "source": [
    "## Using LDA approach"
   ]
  },
  {
   "cell_type": "code",
   "execution_count": 15,
   "metadata": {},
   "outputs": [
    {
     "name": "stdout",
     "output_type": "stream",
     "text": [
      "asin\n",
      "B000V0IBDM    4293\n",
      "B000KPIHQ4    4284\n",
      "B00I0VHS10    3822\n",
      "B00RLSCLJM    3542\n",
      "B000PHANNM    2511\n",
      "              ... \n",
      "B00VQH61O0       1\n",
      "B00VQGEHII       1\n",
      "B00VQGZT76       1\n",
      "B00VQCTMZ0       1\n",
      "B01HJG5NMW       1\n",
      "Name: count, Length: 186189, dtype: int64\n"
     ]
    }
   ],
   "source": [
    "asin_value_counts = df['asin'].value_counts()\n",
    "print(asin_value_counts)\n"
   ]
  },
  {
   "cell_type": "code",
   "execution_count": 16,
   "metadata": {},
   "outputs": [
    {
     "data": {
      "text/plain": [
       "asin\n",
       "B000V0IBDM    4293\n",
       "B000KPIHQ4    4284\n",
       "B00I0VHS10    3822\n",
       "B00RLSCLJM    3542\n",
       "B000PHANNM    2511\n",
       "B00201ER88    2186\n",
       "B00GXE331K    2000\n",
       "B000P0X15G    1910\n",
       "B00XT15P8E    1831\n",
       "B005N7YWX6    1682\n",
       "B004HX6P1E    1641\n",
       "B009RUKQ2G    1575\n",
       "B000JOOR7O    1547\n",
       "B00ZW3SCF0    1505\n",
       "B00XTM0ZPG    1395\n",
       "B000GHMRLW    1382\n",
       "B000GHRZN2    1382\n",
       "B00NIVAEG8    1364\n",
       "B00IJHMPE0    1335\n",
       "B0183JQHCO    1229\n",
       "Name: count, dtype: int64"
      ]
     },
     "execution_count": 16,
     "metadata": {},
     "output_type": "execute_result"
    }
   ],
   "source": [
    "asin_value_counts.head(20)"
   ]
  },
  {
   "cell_type": "code",
   "execution_count": 17,
   "metadata": {},
   "outputs": [],
   "source": [
    "top_asin = asin_value_counts.head(20).index\n",
    "\n",
    "selected_reviews = []\n",
    "for asin in top_asin:\n",
    "    reviews = df[df['asin'] == asin].head(200)\n",
    "    selected_reviews.append(reviews)\n",
    "\n",
    "selected_reviews_df = pd.concat(selected_reviews)\n"
   ]
  },
  {
   "cell_type": "code",
   "execution_count": 18,
   "metadata": {},
   "outputs": [
    {
     "data": {
      "text/html": [
       "<div>\n",
       "<style scoped>\n",
       "    .dataframe tbody tr th:only-of-type {\n",
       "        vertical-align: middle;\n",
       "    }\n",
       "\n",
       "    .dataframe tbody tr th {\n",
       "        vertical-align: top;\n",
       "    }\n",
       "\n",
       "    .dataframe thead th {\n",
       "        text-align: right;\n",
       "    }\n",
       "</style>\n",
       "<table border=\"1\" class=\"dataframe\">\n",
       "  <thead>\n",
       "    <tr style=\"text-align: right;\">\n",
       "      <th></th>\n",
       "      <th>overall</th>\n",
       "      <th>review</th>\n",
       "      <th>asin</th>\n",
       "    </tr>\n",
       "  </thead>\n",
       "  <tbody>\n",
       "    <tr>\n",
       "      <th>24715</th>\n",
       "      <td>5.0</td>\n",
       "      <td>lo ed old style much better thanks great improved</td>\n",
       "      <td>B000V0IBDM</td>\n",
       "    </tr>\n",
       "    <tr>\n",
       "      <th>24716</th>\n",
       "      <td>3.0</td>\n",
       "      <td>average insole three stars</td>\n",
       "      <td>B000V0IBDM</td>\n",
       "    </tr>\n",
       "    <tr>\n",
       "      <th>24717</th>\n",
       "      <td>5.0</td>\n",
       "      <td>buy new pair every six months feet lot really ...</td>\n",
       "      <td>B000V0IBDM</td>\n",
       "    </tr>\n",
       "    <tr>\n",
       "      <th>24718</th>\n",
       "      <td>5.0</td>\n",
       "      <td>podiatrist recommended powerstep insoles offer...</td>\n",
       "      <td>B000V0IBDM</td>\n",
       "    </tr>\n",
       "    <tr>\n",
       "      <th>24719</th>\n",
       "      <td>3.0</td>\n",
       "      <td>worked well first weeks went little hill every...</td>\n",
       "      <td>B000V0IBDM</td>\n",
       "    </tr>\n",
       "  </tbody>\n",
       "</table>\n",
       "</div>"
      ],
      "text/plain": [
       "       overall                                             review        asin\n",
       "24715      5.0  lo ed old style much better thanks great improved  B000V0IBDM\n",
       "24716      3.0                         average insole three stars  B000V0IBDM\n",
       "24717      5.0  buy new pair every six months feet lot really ...  B000V0IBDM\n",
       "24718      5.0  podiatrist recommended powerstep insoles offer...  B000V0IBDM\n",
       "24719      3.0  worked well first weeks went little hill every...  B000V0IBDM"
      ]
     },
     "execution_count": 18,
     "metadata": {},
     "output_type": "execute_result"
    }
   ],
   "source": [
    "selected_reviews_df.head()"
   ]
  },
  {
   "cell_type": "code",
   "execution_count": 19,
   "metadata": {},
   "outputs": [
    {
     "data": {
      "text/plain": [
       "asin\n",
       "B000V0IBDM    200\n",
       "B000KPIHQ4    200\n",
       "B00IJHMPE0    200\n",
       "B00NIVAEG8    200\n",
       "B000GHRZN2    200\n",
       "B000GHMRLW    200\n",
       "B00XTM0ZPG    200\n",
       "B00ZW3SCF0    200\n",
       "B000JOOR7O    200\n",
       "B009RUKQ2G    200\n",
       "B004HX6P1E    200\n",
       "B005N7YWX6    200\n",
       "B00XT15P8E    200\n",
       "B000P0X15G    200\n",
       "B00GXE331K    200\n",
       "B00201ER88    200\n",
       "B000PHANNM    200\n",
       "B00RLSCLJM    200\n",
       "B00I0VHS10    200\n",
       "B0183JQHCO    200\n",
       "Name: count, dtype: int64"
      ]
     },
     "execution_count": 19,
     "metadata": {},
     "output_type": "execute_result"
    }
   ],
   "source": [
    "selected_reviews_df['asin'].value_counts()"
   ]
  },
  {
   "cell_type": "code",
   "execution_count": 20,
   "metadata": {},
   "outputs": [],
   "source": [
    "from nltk.tokenize import word_tokenize\n",
    "from gensim import corpora, models\n",
    "text_data = []\n",
    "for review in selected_reviews_df['review']:\n",
    "    tokens = word_tokenize(review)\n",
    "    text_data.append(tokens)"
   ]
  },
  {
   "cell_type": "code",
   "execution_count": 21,
   "metadata": {},
   "outputs": [],
   "source": [
    "dictionary = corpora.Dictionary(text_data)"
   ]
  },
  {
   "cell_type": "code",
   "execution_count": 22,
   "metadata": {},
   "outputs": [],
   "source": [
    "corpus = [dictionary.doc2bow(text) for text in text_data]"
   ]
  },
  {
   "cell_type": "code",
   "execution_count": 23,
   "metadata": {},
   "outputs": [],
   "source": [
    "lda_model = models.LdaModel(corpus=corpus, num_topics=20, id2word=dictionary)"
   ]
  },
  {
   "cell_type": "code",
   "execution_count": 24,
   "metadata": {},
   "outputs": [
    {
     "name": "stdout",
     "output_type": "stream",
     "text": [
      "[(0, '0.062*\"stars\" + 0.053*\"five\" + 0.052*\"great\" + 0.030*\"purse\" + 0.020*\"good\" + 0.020*\"dress\" + 0.016*\"quality\" + 0.015*\"product\" + 0.011*\"fits\" + 0.009*\"cute\"'), (1, '0.038*\"great\" + 0.021*\"fit\" + 0.017*\"price\" + 0.015*\"hat\" + 0.014*\"quality\" + 0.014*\"loved\" + 0.009*\"purchase\" + 0.008*\"butt\" + 0.008*\"big\" + 0.008*\"really\"'), (2, '0.036*\"stars\" + 0.027*\"good\" + 0.023*\"five\" + 0.022*\"bag\" + 0.015*\"pretty\" + 0.013*\"quality\" + 0.012*\"would\" + 0.012*\"better\" + 0.011*\"last\" + 0.010*\"work\"'), (3, '0.028*\"great\" + 0.025*\"fit\" + 0.024*\"love\" + 0.018*\"good\" + 0.013*\"like\" + 0.012*\"shoes\" + 0.012*\"wear\" + 0.010*\"dress\" + 0.009*\"comfortable\" + 0.009*\"tongue\"'), (4, '0.034*\"great\" + 0.023*\"pants\" + 0.019*\"love\" + 0.017*\"fit\" + 0.015*\"work\" + 0.012*\"size\" + 0.012*\"nice\" + 0.012*\"comfortable\" + 0.011*\"good\" + 0.011*\"quality\"'), (5, '0.039*\"stars\" + 0.019*\"large\" + 0.019*\"love\" + 0.019*\"five\" + 0.017*\"happy\" + 0.016*\"like\" + 0.015*\"four\" + 0.014*\"perfect\" + 0.013*\"wear\" + 0.013*\"size\"'), (6, '0.026*\"love\" + 0.025*\"small\" + 0.021*\"size\" + 0.021*\"waist\" + 0.017*\"fit\" + 0.017*\"great\" + 0.014*\"bag\" + 0.012*\"color\" + 0.011*\"came\" + 0.010*\"like\"'), (7, '0.017*\"love\" + 0.017*\"great\" + 0.015*\"ive\" + 0.015*\"price\" + 0.014*\"one\" + 0.014*\"im\" + 0.013*\"like\" + 0.011*\"bought\" + 0.010*\"shape\" + 0.009*\"designs\"'), (8, '0.049*\"stars\" + 0.043*\"five\" + 0.028*\"fit\" + 0.022*\"great\" + 0.022*\"perfect\" + 0.020*\"nice\" + 0.014*\"well\" + 0.013*\"hat\" + 0.013*\"good\" + 0.012*\"broke\"'), (9, '0.024*\"love\" + 0.024*\"hat\" + 0.023*\"good\" + 0.013*\"little\" + 0.012*\"fit\" + 0.011*\"quality\" + 0.010*\"great\" + 0.010*\"comfortable\" + 0.010*\"like\" + 0.008*\"one\"'), (10, '0.015*\"pants\" + 0.014*\"fit\" + 0.012*\"perfect\" + 0.012*\"im\" + 0.012*\"dress\" + 0.011*\"wear\" + 0.009*\"bag\" + 0.009*\"good\" + 0.009*\"love\" + 0.008*\"material\"'), (11, '0.022*\"hat\" + 0.018*\"size\" + 0.018*\"smell\" + 0.017*\"love\" + 0.017*\"like\" + 0.015*\"small\" + 0.012*\"good\" + 0.012*\"one\" + 0.012*\"great\" + 0.010*\"quality\"'), (12, '0.033*\"great\" + 0.027*\"sunglasses\" + 0.019*\"quality\" + 0.017*\"expected\" + 0.017*\"stars\" + 0.017*\"nice\" + 0.016*\"hat\" + 0.016*\"size\" + 0.014*\"love\" + 0.012*\"five\"'), (13, '0.040*\"one\" + 0.027*\"star\" + 0.023*\"like\" + 0.021*\"size\" + 0.018*\"fit\" + 0.015*\"great\" + 0.013*\"got\" + 0.013*\"really\" + 0.013*\"smaller\" + 0.012*\"love\"'), (14, '0.031*\"balls\" + 0.027*\"stars\" + 0.016*\"five\" + 0.015*\"hat\" + 0.014*\"love\" + 0.011*\"one\" + 0.010*\"looks\" + 0.010*\"perfect\" + 0.009*\"color\" + 0.009*\"get\"'), (15, '0.032*\"well\" + 0.016*\"made\" + 0.014*\"hat\" + 0.012*\"nice\" + 0.012*\"fit\" + 0.010*\"fits\" + 0.010*\"cotton\" + 0.009*\"good\" + 0.009*\"cute\" + 0.008*\"shoes\"'), (16, '0.058*\"stars\" + 0.046*\"five\" + 0.037*\"love\" + 0.030*\"perfect\" + 0.022*\"fit\" + 0.015*\"small\" + 0.014*\"dress\" + 0.013*\"size\" + 0.011*\"order\" + 0.011*\"like\"'), (17, '0.020*\"like\" + 0.020*\"color\" + 0.015*\"bag\" + 0.015*\"butt\" + 0.014*\"fit\" + 0.012*\"small\" + 0.012*\"great\" + 0.011*\"picture\" + 0.009*\"much\" + 0.009*\"look\"'), (18, '0.032*\"pants\" + 0.021*\"stars\" + 0.014*\"good\" + 0.013*\"pair\" + 0.013*\"four\" + 0.012*\"phone\" + 0.012*\"cell\" + 0.012*\"pay\" + 0.011*\"comfortable\" + 0.009*\"cheap\"'), (19, '0.025*\"great\" + 0.020*\"hat\" + 0.014*\"stars\" + 0.014*\"sun\" + 0.013*\"variety\" + 0.013*\"like\" + 0.012*\"material\" + 0.012*\"top\" + 0.012*\"quality\" + 0.012*\"five\"')]\n"
     ]
    }
   ],
   "source": [
    "print(lda_model.print_topics())"
   ]
  },
  {
   "cell_type": "code",
   "execution_count": 25,
   "metadata": {},
   "outputs": [],
   "source": [
    "selected_reviews_df['topics'] = [lda_model.get_document_topics(item) for item in corpus]"
   ]
  },
  {
   "cell_type": "code",
   "execution_count": 26,
   "metadata": {},
   "outputs": [
    {
     "data": {
      "text/plain": [
       "24715                                    [(17, 0.9049452)]\n",
       "24716    [(0, 0.010000784), (1, 0.010000784), (2, 0.597...\n",
       "Name: topics, dtype: object"
      ]
     },
     "execution_count": 26,
     "metadata": {},
     "output_type": "execute_result"
    }
   ],
   "source": [
    "selected_reviews_df['topics'].head(2)"
   ]
  },
  {
   "cell_type": "code",
   "execution_count": 27,
   "metadata": {},
   "outputs": [],
   "source": [
    "def get_dominant_topic(doc_topics):\n",
    "    return max(doc_topics, key = lambda x: x[1])[0]"
   ]
  },
  {
   "cell_type": "code",
   "execution_count": 28,
   "metadata": {},
   "outputs": [],
   "source": [
    "selected_reviews_df['dominant_topic'] = selected_reviews_df['topics'].apply(get_dominant_topic)"
   ]
  },
  {
   "cell_type": "code",
   "execution_count": 29,
   "metadata": {},
   "outputs": [
    {
     "data": {
      "text/plain": [
       "24715    17\n",
       "24716     2\n",
       "Name: dominant_topic, dtype: int64"
      ]
     },
     "execution_count": 29,
     "metadata": {},
     "output_type": "execute_result"
    }
   ],
   "source": [
    "selected_reviews_df['dominant_topic'].head(2)"
   ]
  },
  {
   "cell_type": "code",
   "execution_count": 30,
   "metadata": {},
   "outputs": [],
   "source": [
    "# Calculate average rating per topic\n",
    "topic_avg_ratings = selected_reviews_df.groupby('dominant_topic')['overall'].mean()"
   ]
  },
  {
   "cell_type": "code",
   "execution_count": 31,
   "metadata": {},
   "outputs": [
    {
     "data": {
      "text/plain": [
       "dominant_topic\n",
       "0     4.743750\n",
       "1     4.398773\n",
       "2     4.020270\n",
       "3     4.190883\n",
       "4     4.184397\n",
       "5     4.221374\n",
       "6     3.863158\n",
       "7     4.015038\n",
       "8     4.565421\n",
       "9     4.446809\n",
       "10    4.000000\n",
       "11    3.580882\n",
       "12    4.354651\n",
       "13    3.391753\n",
       "14    4.092105\n",
       "15    4.114943\n",
       "16    4.528037\n",
       "17    3.418605\n",
       "18    4.051095\n",
       "19    4.495370\n",
       "Name: overall, dtype: float64"
      ]
     },
     "execution_count": 31,
     "metadata": {},
     "output_type": "execute_result"
    }
   ],
   "source": [
    "topic_avg_ratings"
   ]
  },
  {
   "cell_type": "code",
   "execution_count": 60,
   "metadata": {},
   "outputs": [
    {
     "name": "stdout",
     "output_type": "stream",
     "text": [
      "Enhanced ratings:\n",
      "        overall  enhanced_rating_lda  \\\n",
      "24715       5.0                 4.21   \n",
      "24716       3.0                 3.51   \n",
      "24717       5.0                 4.56   \n",
      "24718       5.0                 4.51   \n",
      "24719       3.0                 3.59   \n",
      "...         ...                  ...   \n",
      "337060      2.0                 3.01   \n",
      "337061      5.0                 4.68   \n",
      "337062      5.0                 4.60   \n",
      "337093      5.0                 4.51   \n",
      "337094      1.0                 2.76   \n",
      "\n",
      "                                                   review  \n",
      "24715   lo ed old style much better thanks great improved  \n",
      "24716                          average insole three stars  \n",
      "24717   buy new pair every six months feet lot really ...  \n",
      "24718   podiatrist recommended powerstep insoles offer...  \n",
      "24719   worked well first weeks went little hill every...  \n",
      "...                                                   ...  \n",
      "337060  lift buttock shown runs large opinion would re...  \n",
      "337061                   comfortable true size five stars  \n",
      "337062  im pounds carry lot weight stomach short go sp...  \n",
      "337093                           love supposed fits great  \n",
      "337094  ordered xl fits like mi havent worn since summ...  \n",
      "\n",
      "[4000 rows x 3 columns]\n"
     ]
    }
   ],
   "source": [
    "\n",
    "# Apply enhanced rating based on topic\n",
    "selected_reviews_df['enhanced_rating_lda'] = np.round((selected_reviews_df['overall'] + selected_reviews_df['dominant_topic'].map(topic_avg_ratings))/2, 2)\n",
    "\n",
    "# Check the enhanced ratings\n",
    "print(\"Enhanced ratings:\")\n",
    "print(selected_reviews_df[[ 'overall', 'enhanced_rating_lda','review',]])"
   ]
  },
  {
   "cell_type": "markdown",
   "metadata": {},
   "source": [
    "## Cosine similarity approach using tfidf"
   ]
  },
  {
   "cell_type": "code",
   "execution_count": 33,
   "metadata": {},
   "outputs": [
    {
     "data": {
      "text/html": [
       "<div>\n",
       "<style scoped>\n",
       "    .dataframe tbody tr th:only-of-type {\n",
       "        vertical-align: middle;\n",
       "    }\n",
       "\n",
       "    .dataframe tbody tr th {\n",
       "        vertical-align: top;\n",
       "    }\n",
       "\n",
       "    .dataframe thead th {\n",
       "        text-align: right;\n",
       "    }\n",
       "</style>\n",
       "<table border=\"1\" class=\"dataframe\">\n",
       "  <thead>\n",
       "    <tr style=\"text-align: right;\">\n",
       "      <th></th>\n",
       "      <th>overall</th>\n",
       "      <th>review</th>\n",
       "      <th>asin</th>\n",
       "      <th>topics</th>\n",
       "      <th>dominant_topic</th>\n",
       "      <th>enhanced_rating</th>\n",
       "    </tr>\n",
       "  </thead>\n",
       "  <tbody>\n",
       "    <tr>\n",
       "      <th>24715</th>\n",
       "      <td>5.0</td>\n",
       "      <td>lo ed old style much better thanks great improved</td>\n",
       "      <td>B000V0IBDM</td>\n",
       "      <td>[(17, 0.9049452)]</td>\n",
       "      <td>17</td>\n",
       "      <td>4.21</td>\n",
       "    </tr>\n",
       "    <tr>\n",
       "      <th>24716</th>\n",
       "      <td>3.0</td>\n",
       "      <td>average insole three stars</td>\n",
       "      <td>B000V0IBDM</td>\n",
       "      <td>[(0, 0.010000784), (1, 0.010000784), (2, 0.597...</td>\n",
       "      <td>2</td>\n",
       "      <td>3.51</td>\n",
       "    </tr>\n",
       "    <tr>\n",
       "      <th>24717</th>\n",
       "      <td>5.0</td>\n",
       "      <td>buy new pair every six months feet lot really ...</td>\n",
       "      <td>B000V0IBDM</td>\n",
       "      <td>[(3, 0.14938997), (15, 0.80774885)]</td>\n",
       "      <td>15</td>\n",
       "      <td>4.56</td>\n",
       "    </tr>\n",
       "    <tr>\n",
       "      <th>24718</th>\n",
       "      <td>5.0</td>\n",
       "      <td>podiatrist recommended powerstep insoles offer...</td>\n",
       "      <td>B000V0IBDM</td>\n",
       "      <td>[(7, 0.9547472)]</td>\n",
       "      <td>7</td>\n",
       "      <td>4.51</td>\n",
       "    </tr>\n",
       "    <tr>\n",
       "      <th>24719</th>\n",
       "      <td>3.0</td>\n",
       "      <td>worked well first weeks went little hill every...</td>\n",
       "      <td>B000V0IBDM</td>\n",
       "      <td>[(3, 0.2997508), (4, 0.6765421)]</td>\n",
       "      <td>4</td>\n",
       "      <td>3.59</td>\n",
       "    </tr>\n",
       "  </tbody>\n",
       "</table>\n",
       "</div>"
      ],
      "text/plain": [
       "       overall                                             review        asin  \\\n",
       "24715      5.0  lo ed old style much better thanks great improved  B000V0IBDM   \n",
       "24716      3.0                         average insole three stars  B000V0IBDM   \n",
       "24717      5.0  buy new pair every six months feet lot really ...  B000V0IBDM   \n",
       "24718      5.0  podiatrist recommended powerstep insoles offer...  B000V0IBDM   \n",
       "24719      3.0  worked well first weeks went little hill every...  B000V0IBDM   \n",
       "\n",
       "                                                  topics  dominant_topic  \\\n",
       "24715                                  [(17, 0.9049452)]              17   \n",
       "24716  [(0, 0.010000784), (1, 0.010000784), (2, 0.597...               2   \n",
       "24717                [(3, 0.14938997), (15, 0.80774885)]              15   \n",
       "24718                                   [(7, 0.9547472)]               7   \n",
       "24719                   [(3, 0.2997508), (4, 0.6765421)]               4   \n",
       "\n",
       "       enhanced_rating  \n",
       "24715             4.21  \n",
       "24716             3.51  \n",
       "24717             4.56  \n",
       "24718             4.51  \n",
       "24719             3.59  "
      ]
     },
     "execution_count": 33,
     "metadata": {},
     "output_type": "execute_result"
    }
   ],
   "source": [
    "selected_reviews_df.head()"
   ]
  },
  {
   "cell_type": "code",
   "execution_count": 34,
   "metadata": {},
   "outputs": [
    {
     "data": {
      "text/plain": [
       "Index(['overall', 'review', 'asin', 'topics', 'dominant_topic',\n",
       "       'enhanced_rating'],\n",
       "      dtype='object')"
      ]
     },
     "execution_count": 34,
     "metadata": {},
     "output_type": "execute_result"
    }
   ],
   "source": [
    "selected_reviews_df.columns"
   ]
  },
  {
   "cell_type": "code",
   "execution_count": 35,
   "metadata": {},
   "outputs": [
    {
     "data": {
      "text/plain": [
       "(4000, 6)"
      ]
     },
     "execution_count": 35,
     "metadata": {},
     "output_type": "execute_result"
    }
   ],
   "source": [
    "selected_reviews_df.shape"
   ]
  },
  {
   "cell_type": "code",
   "execution_count": 36,
   "metadata": {},
   "outputs": [
    {
     "data": {
      "text/plain": [
       "24715    lo ed old style much better thanks great improved\n",
       "24716                           average insole three stars\n",
       "24717    buy new pair every six months feet lot really ...\n",
       "24718    podiatrist recommended powerstep insoles offer...\n",
       "24719    worked well first weeks went little hill every...\n",
       "Name: review, dtype: object"
      ]
     },
     "execution_count": 36,
     "metadata": {},
     "output_type": "execute_result"
    }
   ],
   "source": [
    "selected_reviews_df.review[:5]"
   ]
  },
  {
   "cell_type": "code",
   "execution_count": 37,
   "metadata": {},
   "outputs": [],
   "source": [
    "from sklearn.feature_extraction.text import TfidfVectorizer\n",
    "from sklearn.metrics.pairwise import cosine_similarity\n",
    "\n",
    "vectorizer = TfidfVectorizer( stop_words='english')\n",
    "tfidf_matirx = vectorizer.fit_transform(selected_reviews_df['review'])"
   ]
  },
  {
   "cell_type": "code",
   "execution_count": 38,
   "metadata": {},
   "outputs": [
    {
     "data": {
      "text/plain": [
       "<4000x5293 sparse matrix of type '<class 'numpy.float64'>'\n",
       "\twith 49438 stored elements in Compressed Sparse Row format>"
      ]
     },
     "execution_count": 38,
     "metadata": {},
     "output_type": "execute_result"
    }
   ],
   "source": [
    "tfidf_matirx"
   ]
  },
  {
   "cell_type": "code",
   "execution_count": 39,
   "metadata": {},
   "outputs": [],
   "source": [
    "cosine_similarity = cosine_similarity(tfidf_matirx, tfidf_matirx)"
   ]
  },
  {
   "cell_type": "code",
   "execution_count": 40,
   "metadata": {},
   "outputs": [
    {
     "data": {
      "text/plain": [
       "(array([[1.        , 0.        , 0.        , ..., 0.        , 0.03584004,\n",
       "         0.        ],\n",
       "        [0.        , 1.        , 0.        , ..., 0.        , 0.        ,\n",
       "         0.        ],\n",
       "        [0.        , 0.        , 1.        , ..., 0.0301043 , 0.        ,\n",
       "         0.        ],\n",
       "        ...,\n",
       "        [0.        , 0.        , 0.0301043 , ..., 1.        , 0.        ,\n",
       "         0.        ],\n",
       "        [0.03584004, 0.        , 0.        , ..., 0.        , 1.        ,\n",
       "         0.06829375],\n",
       "        [0.        , 0.        , 0.        , ..., 0.        , 0.06829375,\n",
       "         1.        ]]),\n",
       " (4000, 4000))"
      ]
     },
     "execution_count": 40,
     "metadata": {},
     "output_type": "execute_result"
    }
   ],
   "source": [
    "cosine_similarity, cosine_similarity.shape"
   ]
  },
  {
   "cell_type": "code",
   "execution_count": 41,
   "metadata": {},
   "outputs": [],
   "source": [
    "num_similar_reviews = 5\n",
    "\n",
    "# Get indices of top similar reviews for each review\n",
    "top_similar_indices = np.argsort(cosine_similarity, axis=1)[:, -num_similar_reviews:]"
   ]
  },
  {
   "cell_type": "code",
   "execution_count": 42,
   "metadata": {},
   "outputs": [],
   "source": [
    "similar_ratings = selected_reviews_df['overall'].values[top_similar_indices]"
   ]
  },
  {
   "cell_type": "code",
   "execution_count": 43,
   "metadata": {},
   "outputs": [
    {
     "data": {
      "text/plain": [
       "array([[[0.22233577, 0.25288705, 0.25377899, 0.27463556, 1.        ],\n",
       "        [0.        , 0.        , 0.01856046, 0.        , 0.        ],\n",
       "        [0.        , 0.        , 0.0113478 , 0.02882489, 0.        ],\n",
       "        ...,\n",
       "        [0.        , 0.        , 0.        , 0.        , 0.        ],\n",
       "        [0.06395163, 0.06395163, 0.06395163, 0.06395163, 0.03584004],\n",
       "        [0.        , 0.        , 0.        , 0.        , 0.        ]],\n",
       "\n",
       "       [[0.        , 0.06666899, 0.        , 0.07240258, 0.        ],\n",
       "        [0.28924783, 0.28924783, 0.32143832, 0.36534962, 1.        ],\n",
       "        [0.        , 0.        , 0.        , 0.04968515, 0.        ],\n",
       "        ...,\n",
       "        [0.        , 0.05417629, 0.05501273, 0.        , 0.        ],\n",
       "        [0.11023275, 0.11023275, 0.11023275, 0.11023275, 0.        ],\n",
       "        [0.        , 0.        , 0.03493762, 0.0495131 , 0.        ]],\n",
       "\n",
       "       [[0.18181909, 0.        , 0.        , 0.        , 0.        ],\n",
       "        [0.        , 0.        , 0.        , 0.        , 0.        ],\n",
       "        [0.31979496, 0.31979496, 0.33118509, 0.34412933, 1.        ],\n",
       "        ...,\n",
       "        [0.        , 0.        , 0.        , 0.06801539, 0.0301043 ],\n",
       "        [0.        , 0.        , 0.        , 0.        , 0.        ],\n",
       "        [0.        , 0.        , 0.        , 0.        , 0.        ]],\n",
       "\n",
       "       ...,\n",
       "\n",
       "       [[0.        , 0.        , 0.0482579 , 0.        , 0.        ],\n",
       "        [0.        , 0.        , 0.        , 0.01538457, 0.        ],\n",
       "        [0.05603045, 0.05603045, 0.        , 0.        , 0.0301043 ],\n",
       "        ...,\n",
       "        [0.26571831, 0.27522427, 0.27947351, 0.30571983, 1.        ],\n",
       "        [0.        , 0.        , 0.        , 0.        , 0.        ],\n",
       "        [0.        , 0.        , 0.        , 0.        , 0.        ]],\n",
       "\n",
       "       [[0.        , 0.        , 0.        , 0.        , 0.03584004],\n",
       "        [0.        , 0.        , 0.03957402, 0.        , 0.        ],\n",
       "        [0.        , 0.        , 0.09304595, 0.06145949, 0.        ],\n",
       "        ...,\n",
       "        [0.        , 0.        , 0.        , 0.        , 0.        ],\n",
       "        [0.44111662, 0.44111662, 0.44111662, 0.44111662, 1.        ],\n",
       "        [0.        , 0.        , 0.        , 0.        , 0.06829375]],\n",
       "\n",
       "       [[0.08601555, 0.        , 0.        , 0.        , 0.        ],\n",
       "        [0.        , 0.        , 0.        , 0.        , 0.        ],\n",
       "        [0.        , 0.        , 0.        , 0.        , 0.        ],\n",
       "        ...,\n",
       "        [0.        , 0.        , 0.        , 0.        , 0.        ],\n",
       "        [0.12186082, 0.12186082, 0.12186082, 0.12186082, 0.06829375],\n",
       "        [0.19550239, 0.20648973, 0.21603415, 0.26797208, 1.        ]]])"
      ]
     },
     "execution_count": 43,
     "metadata": {},
     "output_type": "execute_result"
    }
   ],
   "source": [
    "cosine_similarity[:, top_similar_indices]"
   ]
  },
  {
   "cell_type": "code",
   "execution_count": 44,
   "metadata": {},
   "outputs": [
    {
     "name": "stderr",
     "output_type": "stream",
     "text": [
      "C:\\Users\\gitan\\AppData\\Local\\Temp\\ipykernel_22940\\2558028203.py:2: RuntimeWarning: invalid value encountered in divide\n",
      "  weighted_ratings = np.sum(similar_ratings * cosine_similarity[:, top_similar_indices], axis=1) / np.sum(cosine_similarity[:, top_similar_indices], axis=1)\n"
     ]
    }
   ],
   "source": [
    "# Compute the weighted average of ratings based on cosine similarity scores\n",
    "weighted_ratings = np.sum(similar_ratings * cosine_similarity[:, top_similar_indices], axis=1) / np.sum(cosine_similarity[:, top_similar_indices], axis=1)"
   ]
  },
  {
   "cell_type": "code",
   "execution_count": 45,
   "metadata": {},
   "outputs": [],
   "source": [
    "weighted_ratings = np.where(np.isnan(weighted_ratings), 0.0, weighted_ratings)"
   ]
  },
  {
   "cell_type": "code",
   "execution_count": 46,
   "metadata": {},
   "outputs": [
    {
     "data": {
      "text/plain": [
       "(4000, 5)"
      ]
     },
     "execution_count": 46,
     "metadata": {},
     "output_type": "execute_result"
    }
   ],
   "source": [
    "weighted_ratings.shape"
   ]
  },
  {
   "cell_type": "code",
   "execution_count": 47,
   "metadata": {},
   "outputs": [
    {
     "data": {
      "text/plain": [
       "array([[4.824197  , 4.86229875, 4.83274555, 4.78078598, 4.67064451],\n",
       "       [4.69020552, 4.68173306, 4.62927898, 4.56908502, 4.54476866],\n",
       "       [4.53993921, 4.47473148, 4.41992946, 4.38771585, 4.2918114 ],\n",
       "       [4.69931232, 4.72026811, 4.72929116, 4.57400204, 4.48583564],\n",
       "       [4.52443865, 4.56952754, 4.54029051, 4.45532921, 4.29935582]])"
      ]
     },
     "execution_count": 47,
     "metadata": {},
     "output_type": "execute_result"
    }
   ],
   "source": [
    "weighted_ratings[:5]"
   ]
  },
  {
   "cell_type": "code",
   "execution_count": 48,
   "metadata": {},
   "outputs": [
    {
     "data": {
      "text/plain": [
       "(4000,)"
      ]
     },
     "execution_count": 48,
     "metadata": {},
     "output_type": "execute_result"
    }
   ],
   "source": [
    "weighted_ratings1  = np.amax(weighted_ratings, axis=1)\n",
    "weighted_ratings1.shape"
   ]
  },
  {
   "cell_type": "code",
   "execution_count": 49,
   "metadata": {},
   "outputs": [],
   "source": [
    "weighted_ratings1 = np.round(weighted_ratings1, decimals=2)"
   ]
  },
  {
   "cell_type": "code",
   "execution_count": 50,
   "metadata": {},
   "outputs": [],
   "source": [
    "selected_reviews_df['computed_rating_tfidf'] = weighted_ratings1"
   ]
  },
  {
   "cell_type": "code",
   "execution_count": 51,
   "metadata": {},
   "outputs": [
    {
     "name": "stdout",
     "output_type": "stream",
     "text": [
      "        overall                                             review  \\\n",
      "24715       5.0  lo ed old style much better thanks great improved   \n",
      "24716       3.0                         average insole three stars   \n",
      "24717       5.0  buy new pair every six months feet lot really ...   \n",
      "24718       5.0  podiatrist recommended powerstep insoles offer...   \n",
      "24719       3.0  worked well first weeks went little hill every...   \n",
      "...         ...                                                ...   \n",
      "337060      2.0  lift buttock shown runs large opinion would re...   \n",
      "337061      5.0                   comfortable true size five stars   \n",
      "337062      5.0  im pounds carry lot weight stomach short go sp...   \n",
      "337093      5.0                           love supposed fits great   \n",
      "337094      1.0  ordered xl fits like mi havent worn since summ...   \n",
      "\n",
      "        computed_rating_tfidf  \n",
      "24715                    4.86  \n",
      "24716                    4.69  \n",
      "24717                    4.54  \n",
      "24718                    4.73  \n",
      "24719                    4.57  \n",
      "...                       ...  \n",
      "337060                   3.86  \n",
      "337061                   4.66  \n",
      "337062                   4.46  \n",
      "337093                   4.90  \n",
      "337094                   4.45  \n",
      "\n",
      "[4000 rows x 3 columns]\n"
     ]
    }
   ],
   "source": [
    "print(selected_reviews_df[['overall','review' ,'computed_rating_tfidf']])"
   ]
  },
  {
   "cell_type": "markdown",
   "metadata": {},
   "source": [
    "## Comaprison of Overall , Computed_rating_tfidf, lda approach"
   ]
  },
  {
   "cell_type": "code",
   "execution_count": 63,
   "metadata": {},
   "outputs": [
    {
     "data": {
      "text/html": [
       "<div>\n",
       "<style scoped>\n",
       "    .dataframe tbody tr th:only-of-type {\n",
       "        vertical-align: middle;\n",
       "    }\n",
       "\n",
       "    .dataframe tbody tr th {\n",
       "        vertical-align: top;\n",
       "    }\n",
       "\n",
       "    .dataframe thead th {\n",
       "        text-align: right;\n",
       "    }\n",
       "</style>\n",
       "<table border=\"1\" class=\"dataframe\">\n",
       "  <thead>\n",
       "    <tr style=\"text-align: right;\">\n",
       "      <th></th>\n",
       "      <th>overall</th>\n",
       "      <th>review</th>\n",
       "      <th>enhanced_rating_lda</th>\n",
       "      <th>computed_rating_tfidf</th>\n",
       "    </tr>\n",
       "  </thead>\n",
       "  <tbody>\n",
       "    <tr>\n",
       "      <th>24715</th>\n",
       "      <td>5.0</td>\n",
       "      <td>lo ed old style much better thanks great improved</td>\n",
       "      <td>4.21</td>\n",
       "      <td>4.86</td>\n",
       "    </tr>\n",
       "    <tr>\n",
       "      <th>24716</th>\n",
       "      <td>3.0</td>\n",
       "      <td>average insole three stars</td>\n",
       "      <td>3.51</td>\n",
       "      <td>4.69</td>\n",
       "    </tr>\n",
       "    <tr>\n",
       "      <th>24717</th>\n",
       "      <td>5.0</td>\n",
       "      <td>buy new pair every six months feet lot really ...</td>\n",
       "      <td>4.56</td>\n",
       "      <td>4.54</td>\n",
       "    </tr>\n",
       "    <tr>\n",
       "      <th>24718</th>\n",
       "      <td>5.0</td>\n",
       "      <td>podiatrist recommended powerstep insoles offer...</td>\n",
       "      <td>4.51</td>\n",
       "      <td>4.73</td>\n",
       "    </tr>\n",
       "    <tr>\n",
       "      <th>24719</th>\n",
       "      <td>3.0</td>\n",
       "      <td>worked well first weeks went little hill every...</td>\n",
       "      <td>3.59</td>\n",
       "      <td>4.57</td>\n",
       "    </tr>\n",
       "  </tbody>\n",
       "</table>\n",
       "</div>"
      ],
      "text/plain": [
       "       overall                                             review  \\\n",
       "24715      5.0  lo ed old style much better thanks great improved   \n",
       "24716      3.0                         average insole three stars   \n",
       "24717      5.0  buy new pair every six months feet lot really ...   \n",
       "24718      5.0  podiatrist recommended powerstep insoles offer...   \n",
       "24719      3.0  worked well first weeks went little hill every...   \n",
       "\n",
       "       enhanced_rating_lda  computed_rating_tfidf  \n",
       "24715                 4.21                   4.86  \n",
       "24716                 3.51                   4.69  \n",
       "24717                 4.56                   4.54  \n",
       "24718                 4.51                   4.73  \n",
       "24719                 3.59                   4.57  "
      ]
     },
     "execution_count": 63,
     "metadata": {},
     "output_type": "execute_result"
    }
   ],
   "source": [
    "comparison_df = selected_reviews_df[['overall', 'review' , 'enhanced_rating_lda', 'computed_rating_tfidf']]\n",
    "\n",
    "comparison_df.head()"
   ]
  },
  {
   "cell_type": "code",
   "execution_count": 64,
   "metadata": {},
   "outputs": [],
   "source": [
    "comparison_df = comparison_df.reset_index(drop=True)\n"
   ]
  },
  {
   "cell_type": "code",
   "execution_count": 65,
   "metadata": {},
   "outputs": [
    {
     "data": {
      "text/plain": [
       "<matplotlib.legend.Legend at 0x189d0f091d0>"
      ]
     },
     "execution_count": 65,
     "metadata": {},
     "output_type": "execute_result"
    },
    {
     "data": {
      "image/png": "[encoded data removed]",
      "text/plain": [
       "<Figure size 640x480 with 1 Axes>"
      ]
     },
     "metadata": {},
     "output_type": "display_data"
    }
   ],
   "source": [
    "ax = comparison_df[:10].plot(kind='line')\n",
    "ax.legend(bbox_to_anchor=(1.05, 1), loc='upper left')"
   ]
  },
  {
   "cell_type": "code",
   "execution_count": 66,
   "metadata": {},
   "outputs": [
    {
     "data": {
      "text/plain": [
       "<matplotlib.legend.Legend at 0x189cefbe890>"
      ]
     },
     "execution_count": 66,
     "metadata": {},
     "output_type": "execute_result"
    },
    {
     "data": {
      "image/png": "[encoded data removed]",
      "text/plain": [
       "<Figure size 640x480 with 1 Axes>"
      ]
     },
     "metadata": {},
     "output_type": "display_data"
    }
   ],
   "source": [
    "ax = comparison_df[:10].plot(kind='bar')\n",
    "ax.legend(bbox_to_anchor=(1.05, 1), loc='upper left')"
   ]
  },
  {
   "cell_type": "code",
   "execution_count": null,
   "metadata": {},
   "outputs": [],
   "source": []
  }
 ],
 "metadata": {
  "kernelspec": {
   "display_name": "base",
   "language": "python",
   "name": "python3"
  },
  "language_info": {
   "codemirror_mode": {
    "name": "ipython",
    "version": 3
   },
   "file_extension": ".py",
   "mimetype": "text/x-python",
   "name": "python",
   "nbconvert_exporter": "python",
   "pygments_lexer": "ipython3",
   "version": "3.11.5"
  }
 },
 "nbformat": 4,
 "nbformat_minor": 2
}
